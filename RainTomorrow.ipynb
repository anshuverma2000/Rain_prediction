{
 "cells": [
  {
   "cell_type": "code",
   "execution_count": 202,
   "id": "5ae81c93-8222-4d2a-b026-a2bcc3ad89da",
   "metadata": {
    "id": "5ae81c93-8222-4d2a-b026-a2bcc3ad89da",
    "tags": []
   },
   "outputs": [],
   "source": [
    "import pandas as pd\n",
    "import numpy as np\n",
    "import matplotlib.pyplot as plt\n",
    "import warnings\n",
    "warnings.filterwarnings(action = 'ignore')\n",
    "#plt. style.use([' seaborn-bright', 'dark_background'])\n",
    "\n",
    "# to visualize the dicision tree\n",
    "from sklearn.tree import export_graphviz\n",
    "from graphviz import render"
   ]
  },
  {
   "cell_type": "code",
   "execution_count": 203,
   "id": "EEIGCy541CNH",
   "metadata": {
    "colab": {
     "base_uri": "https://localhost:8080/"
    },
    "executionInfo": {
     "elapsed": 5990,
     "status": "ok",
     "timestamp": 1695100175261,
     "user": {
      "displayName": "Anshu Verma",
      "userId": "17226440237185384928"
     },
     "user_tz": -330
    },
    "id": "EEIGCy541CNH",
    "outputId": "e66f9db7-9759-4972-a4a1-54ec36217ed0"
   },
   "outputs": [],
   "source": [
    "# from google.colab import drive\n",
    "# drive.mount('/content/drive')\n",
    "# df = pd.read_csv(\"/content/drive/MyDrive/Diginique Internship/Project/explored_weather_data.csv\")"
   ]
  },
  {
   "cell_type": "code",
   "execution_count": 204,
   "id": "14eeb172-1dde-483b-a1db-c4f692b323b4",
   "metadata": {
    "colab": {
     "base_uri": "https://localhost:8080/",
     "height": 338
    },
    "executionInfo": {
     "elapsed": 619,
     "status": "error",
     "timestamp": 1695100012000,
     "user": {
      "displayName": "Anshu Verma",
      "userId": "17226440237185384928"
     },
     "user_tz": -330
    },
    "id": "14eeb172-1dde-483b-a1db-c4f692b323b4",
    "outputId": "0900a2cf-e6ab-4626-d03f-ae86f235efe4",
    "tags": []
   },
   "outputs": [],
   "source": [
    "df = pd.read_csv(\"explored_weather_data.csv\")"
   ]
  },
  {
   "cell_type": "code",
   "execution_count": 205,
   "id": "8304ecfe-f6d0-4ff2-95db-2657820c16f4",
   "metadata": {
    "id": "8304ecfe-f6d0-4ff2-95db-2657820c16f4",
    "tags": []
   },
   "outputs": [
    {
     "name": "stdout",
     "output_type": "stream",
     "text": [
      "<class 'pandas.core.frame.DataFrame'>\n",
      "RangeIndex: 139354 entries, 0 to 139353\n",
      "Data columns (total 42 columns):\n",
      " #   Column           Non-Null Count   Dtype  \n",
      "---  ------           --------------   -----  \n",
      " 0   Unnamed: 0       139354 non-null  int64  \n",
      " 1   MinTemp          139354 non-null  float64\n",
      " 2   MaxTemp          139354 non-null  float64\n",
      " 3   WindGustSpeed    139354 non-null  float64\n",
      " 4   WindSpeed9am     139354 non-null  float64\n",
      " 5   WindSpeed3pm     139354 non-null  float64\n",
      " 6   Humidity9am      139354 non-null  float64\n",
      " 7   Humidity3pm      139354 non-null  float64\n",
      " 8   Pressure9am      139354 non-null  float64\n",
      " 9   Pressure3pm      139354 non-null  float64\n",
      " 10  Temp9am          139354 non-null  float64\n",
      " 11  Temp3pm          139354 non-null  float64\n",
      " 12  RainToday        139354 non-null  float64\n",
      " 13  RainTomorrow     139354 non-null  float64\n",
      " 14  WindGustDir_E    139354 non-null  int64  \n",
      " 15  WindGustDir_ENE  139354 non-null  int64  \n",
      " 16  WindGustDir_ESE  139354 non-null  int64  \n",
      " 17  WindGustDir_N    139354 non-null  int64  \n",
      " 18  WindGustDir_NE   139354 non-null  int64  \n",
      " 19  WindGustDir_NNE  139354 non-null  int64  \n",
      " 20  WindGustDir_NNW  139354 non-null  int64  \n",
      " 21  WindGustDir_NW   139354 non-null  int64  \n",
      " 22  WindGustDir_S    139354 non-null  int64  \n",
      " 23  WindGustDir_SE   139354 non-null  int64  \n",
      " 24  WindGustDir_SSE  139354 non-null  int64  \n",
      " 25  WindGustDir_SSW  139354 non-null  int64  \n",
      " 26  WindGustDir_SW   139354 non-null  int64  \n",
      " 27  WindGustDir_W    139354 non-null  int64  \n",
      " 28  WindGustDir_WNW  139354 non-null  int64  \n",
      " 29  WindGustDir_WSW  139354 non-null  int64  \n",
      " 30  Month_April      139354 non-null  int64  \n",
      " 31  Month_August     139354 non-null  int64  \n",
      " 32  Month_December   139354 non-null  int64  \n",
      " 33  Month_February   139354 non-null  int64  \n",
      " 34  Month_January    139354 non-null  int64  \n",
      " 35  Month_July       139354 non-null  int64  \n",
      " 36  Month_June       139354 non-null  int64  \n",
      " 37  Month_March      139354 non-null  int64  \n",
      " 38  Month_May        139354 non-null  int64  \n",
      " 39  Month_November   139354 non-null  int64  \n",
      " 40  Month_October    139354 non-null  int64  \n",
      " 41  Month_September  139354 non-null  int64  \n",
      "dtypes: float64(13), int64(29)\n",
      "memory usage: 44.7 MB\n"
     ]
    }
   ],
   "source": [
    "df.info()"
   ]
  },
  {
   "cell_type": "code",
   "execution_count": 206,
   "id": "ac488e70-ec35-4300-bd3c-01be217e442d",
   "metadata": {
    "id": "ac488e70-ec35-4300-bd3c-01be217e442d",
    "tags": []
   },
   "outputs": [
    {
     "data": {
      "text/plain": [
       "Index(['Unnamed: 0', 'MinTemp', 'MaxTemp', 'WindGustSpeed', 'WindSpeed9am',\n",
       "       'WindSpeed3pm', 'Humidity9am', 'Humidity3pm', 'Pressure9am',\n",
       "       'Pressure3pm', 'Temp9am', 'Temp3pm', 'RainToday', 'RainTomorrow',\n",
       "       'WindGustDir_E', 'WindGustDir_ENE', 'WindGustDir_ESE', 'WindGustDir_N',\n",
       "       'WindGustDir_NE', 'WindGustDir_NNE', 'WindGustDir_NNW',\n",
       "       'WindGustDir_NW', 'WindGustDir_S', 'WindGustDir_SE', 'WindGustDir_SSE',\n",
       "       'WindGustDir_SSW', 'WindGustDir_SW', 'WindGustDir_W', 'WindGustDir_WNW',\n",
       "       'WindGustDir_WSW', 'Month_April', 'Month_August', 'Month_December',\n",
       "       'Month_February', 'Month_January', 'Month_July', 'Month_June',\n",
       "       'Month_March', 'Month_May', 'Month_November', 'Month_October',\n",
       "       'Month_September'],\n",
       "      dtype='object')"
      ]
     },
     "execution_count": 206,
     "metadata": {},
     "output_type": "execute_result"
    }
   ],
   "source": [
    "df.columns"
   ]
  },
  {
   "cell_type": "code",
   "execution_count": 209,
   "id": "982051a1-6308-4040-8500-7d2630705562",
   "metadata": {
    "tags": []
   },
   "outputs": [],
   "source": [
    "df = df.drop(columns = [\"Unnamed: 0\"])"
   ]
  },
  {
   "cell_type": "code",
   "execution_count": 210,
   "id": "baf3aea1-a67b-4692-97b2-ea57ce84b2ad",
   "metadata": {
    "tags": []
   },
   "outputs": [
    {
     "name": "stdout",
     "output_type": "stream",
     "text": [
      "<class 'pandas.core.frame.DataFrame'>\n",
      "RangeIndex: 139354 entries, 0 to 139353\n",
      "Data columns (total 41 columns):\n",
      " #   Column           Non-Null Count   Dtype  \n",
      "---  ------           --------------   -----  \n",
      " 0   MinTemp          139354 non-null  float64\n",
      " 1   MaxTemp          139354 non-null  float64\n",
      " 2   WindGustSpeed    139354 non-null  float64\n",
      " 3   WindSpeed9am     139354 non-null  float64\n",
      " 4   WindSpeed3pm     139354 non-null  float64\n",
      " 5   Humidity9am      139354 non-null  float64\n",
      " 6   Humidity3pm      139354 non-null  float64\n",
      " 7   Pressure9am      139354 non-null  float64\n",
      " 8   Pressure3pm      139354 non-null  float64\n",
      " 9   Temp9am          139354 non-null  float64\n",
      " 10  Temp3pm          139354 non-null  float64\n",
      " 11  RainToday        139354 non-null  float64\n",
      " 12  RainTomorrow     139354 non-null  float64\n",
      " 13  WindGustDir_E    139354 non-null  int64  \n",
      " 14  WindGustDir_ENE  139354 non-null  int64  \n",
      " 15  WindGustDir_ESE  139354 non-null  int64  \n",
      " 16  WindGustDir_N    139354 non-null  int64  \n",
      " 17  WindGustDir_NE   139354 non-null  int64  \n",
      " 18  WindGustDir_NNE  139354 non-null  int64  \n",
      " 19  WindGustDir_NNW  139354 non-null  int64  \n",
      " 20  WindGustDir_NW   139354 non-null  int64  \n",
      " 21  WindGustDir_S    139354 non-null  int64  \n",
      " 22  WindGustDir_SE   139354 non-null  int64  \n",
      " 23  WindGustDir_SSE  139354 non-null  int64  \n",
      " 24  WindGustDir_SSW  139354 non-null  int64  \n",
      " 25  WindGustDir_SW   139354 non-null  int64  \n",
      " 26  WindGustDir_W    139354 non-null  int64  \n",
      " 27  WindGustDir_WNW  139354 non-null  int64  \n",
      " 28  WindGustDir_WSW  139354 non-null  int64  \n",
      " 29  Month_April      139354 non-null  int64  \n",
      " 30  Month_August     139354 non-null  int64  \n",
      " 31  Month_December   139354 non-null  int64  \n",
      " 32  Month_February   139354 non-null  int64  \n",
      " 33  Month_January    139354 non-null  int64  \n",
      " 34  Month_July       139354 non-null  int64  \n",
      " 35  Month_June       139354 non-null  int64  \n",
      " 36  Month_March      139354 non-null  int64  \n",
      " 37  Month_May        139354 non-null  int64  \n",
      " 38  Month_November   139354 non-null  int64  \n",
      " 39  Month_October    139354 non-null  int64  \n",
      " 40  Month_September  139354 non-null  int64  \n",
      "dtypes: float64(13), int64(28)\n",
      "memory usage: 43.6 MB\n"
     ]
    }
   ],
   "source": [
    "df.info()"
   ]
  },
  {
   "cell_type": "markdown",
   "id": "74cabd14-66ec-47f1-8e7d-7a7b75737cfa",
   "metadata": {
    "id": "74cabd14-66ec-47f1-8e7d-7a7b75737cfa"
   },
   "source": [
    "## Splitting the data"
   ]
  },
  {
   "cell_type": "code",
   "execution_count": 211,
   "id": "6e8e4b70-28bf-4d7b-946f-79c6f06c5670",
   "metadata": {
    "id": "6e8e4b70-28bf-4d7b-946f-79c6f06c5670",
    "tags": []
   },
   "outputs": [],
   "source": [
    "X = df.drop(columns = ['RainTomorrow'])\n",
    "Y = df['RainTomorrow']"
   ]
  },
  {
   "cell_type": "markdown",
   "id": "31a6ef61-3308-4f61-bfb4-1cbc451cde16",
   "metadata": {
    "id": "31a6ef61-3308-4f61-bfb4-1cbc451cde16"
   },
   "source": [
    "# Using the dicision tree algorithm from sklearn"
   ]
  },
  {
   "cell_type": "code",
   "execution_count": 157,
   "id": "51f67d3a-a52b-4fe9-8870-919f198181e8",
   "metadata": {
    "id": "51f67d3a-a52b-4fe9-8870-919f198181e8",
    "tags": []
   },
   "outputs": [
    {
     "data": {
      "text/plain": [
       "((111483, 40), (27871, 40), (111483,), (27871,))"
      ]
     },
     "execution_count": 157,
     "metadata": {},
     "output_type": "execute_result"
    }
   ],
   "source": [
    "from sklearn. model_selection import train_test_split as tts\n",
    "x_train, x_test, y_train, y_test = tts(X, Y, train_size = 0.80, stratify = Y)\n",
    "x_train.shape, x_test.shape, y_train. shape, y_test.shape"
   ]
  },
  {
   "cell_type": "code",
   "execution_count": 158,
   "id": "e5e90916-d9bb-49d0-b13e-500eabca0746",
   "metadata": {
    "id": "e5e90916-d9bb-49d0-b13e-500eabca0746",
    "tags": []
   },
   "outputs": [],
   "source": [
    "from sklearn.tree import DecisionTreeClassifier as DTC\n",
    "classifier = DTC( criterion = \"entropy\", class_weight = 'balanced')\n",
    "# classifier = DTC()"
   ]
  },
  {
   "cell_type": "code",
   "execution_count": 159,
   "id": "705dece1-4bf9-4edf-8c11-694b4c80568d",
   "metadata": {
    "id": "705dece1-4bf9-4edf-8c11-694b4c80568d",
    "tags": []
   },
   "outputs": [],
   "source": [
    "classifier.fit(x_train, y_train)\n",
    "predicted_values = classifier.predict(x_train)"
   ]
  },
  {
   "cell_type": "markdown",
   "id": "d15b3052-7b6e-4c76-9df3-a377e5428358",
   "metadata": {
    "id": "d15b3052-7b6e-4c76-9df3-a377e5428358"
   },
   "source": [
    "# performance of the model"
   ]
  },
  {
   "cell_type": "code",
   "execution_count": 160,
   "id": "7d2b8631-558c-44d1-afb6-0bd8644d057f",
   "metadata": {
    "id": "7d2b8631-558c-44d1-afb6-0bd8644d057f",
    "tags": []
   },
   "outputs": [
    {
     "name": "stdout",
     "output_type": "stream",
     "text": [
      "              precision    recall  f1-score   support\n",
      "\n",
      "         0.0       1.00      1.00      1.00     86815\n",
      "         1.0       1.00      1.00      1.00     24668\n",
      "\n",
      "    accuracy                           1.00    111483\n",
      "   macro avg       1.00      1.00      1.00    111483\n",
      "weighted avg       1.00      1.00      1.00    111483\n",
      "\n"
     ]
    }
   ],
   "source": [
    "from sklearn.metrics import classification_report\n",
    "print (classification_report(y_train, predicted_values))"
   ]
  },
  {
   "cell_type": "code",
   "execution_count": 161,
   "id": "efc4be5f-64e9-48eb-a555-9f8cffdc3472",
   "metadata": {
    "id": "efc4be5f-64e9-48eb-a555-9f8cffdc3472",
    "tags": []
   },
   "outputs": [
    {
     "name": "stdout",
     "output_type": "stream",
     "text": [
      "              precision    recall  f1-score   support\n",
      "\n",
      "         0.0       0.86      0.86      0.86     21704\n",
      "         1.0       0.51      0.52      0.52      6167\n",
      "\n",
      "    accuracy                           0.78     27871\n",
      "   macro avg       0.69      0.69      0.69     27871\n",
      "weighted avg       0.79      0.78      0.78     27871\n",
      "\n"
     ]
    }
   ],
   "source": [
    "predicted_values = classifier.predict(x_test)\n",
    "print (classification_report(y_test, predicted_values))"
   ]
  },
  {
   "cell_type": "code",
   "execution_count": 162,
   "id": "fe0876e7-ee4f-4fe7-90bb-0df9159fef46",
   "metadata": {
    "tags": []
   },
   "outputs": [
    {
     "data": {
      "text/plain": [
       "0.7833949266262423"
      ]
     },
     "execution_count": 162,
     "metadata": {},
     "output_type": "execute_result"
    }
   ],
   "source": [
    "from sklearn.metrics import accuracy_score\n",
    "accuracy_score(y_test, predicted_values)"
   ]
  },
  {
   "cell_type": "markdown",
   "id": "69e8de24-e0b0-429d-b105-096ca2099387",
   "metadata": {
    "id": "69e8de24-e0b0-429d-b105-096ca2099387"
   },
   "source": [
    "# Pruning"
   ]
  },
  {
   "cell_type": "code",
   "execution_count": 163,
   "id": "8d9d2493-9a8e-4303-a24c-b8e5865aecfe",
   "metadata": {
    "id": "8d9d2493-9a8e-4303-a24c-b8e5865aecfe",
    "tags": []
   },
   "outputs": [
    {
     "data": {
      "text/html": [
       "<style>#sk-container-id-5 {color: black;}#sk-container-id-5 pre{padding: 0;}#sk-container-id-5 div.sk-toggleable {background-color: white;}#sk-container-id-5 label.sk-toggleable__label {cursor: pointer;display: block;width: 100%;margin-bottom: 0;padding: 0.3em;box-sizing: border-box;text-align: center;}#sk-container-id-5 label.sk-toggleable__label-arrow:before {content: \"▸\";float: left;margin-right: 0.25em;color: #696969;}#sk-container-id-5 label.sk-toggleable__label-arrow:hover:before {color: black;}#sk-container-id-5 div.sk-estimator:hover label.sk-toggleable__label-arrow:before {color: black;}#sk-container-id-5 div.sk-toggleable__content {max-height: 0;max-width: 0;overflow: hidden;text-align: left;background-color: #f0f8ff;}#sk-container-id-5 div.sk-toggleable__content pre {margin: 0.2em;color: black;border-radius: 0.25em;background-color: #f0f8ff;}#sk-container-id-5 input.sk-toggleable__control:checked~div.sk-toggleable__content {max-height: 200px;max-width: 100%;overflow: auto;}#sk-container-id-5 input.sk-toggleable__control:checked~label.sk-toggleable__label-arrow:before {content: \"▾\";}#sk-container-id-5 div.sk-estimator input.sk-toggleable__control:checked~label.sk-toggleable__label {background-color: #d4ebff;}#sk-container-id-5 div.sk-label input.sk-toggleable__control:checked~label.sk-toggleable__label {background-color: #d4ebff;}#sk-container-id-5 input.sk-hidden--visually {border: 0;clip: rect(1px 1px 1px 1px);clip: rect(1px, 1px, 1px, 1px);height: 1px;margin: -1px;overflow: hidden;padding: 0;position: absolute;width: 1px;}#sk-container-id-5 div.sk-estimator {font-family: monospace;background-color: #f0f8ff;border: 1px dotted black;border-radius: 0.25em;box-sizing: border-box;margin-bottom: 0.5em;}#sk-container-id-5 div.sk-estimator:hover {background-color: #d4ebff;}#sk-container-id-5 div.sk-parallel-item::after {content: \"\";width: 100%;border-bottom: 1px solid gray;flex-grow: 1;}#sk-container-id-5 div.sk-label:hover label.sk-toggleable__label {background-color: #d4ebff;}#sk-container-id-5 div.sk-serial::before {content: \"\";position: absolute;border-left: 1px solid gray;box-sizing: border-box;top: 0;bottom: 0;left: 50%;z-index: 0;}#sk-container-id-5 div.sk-serial {display: flex;flex-direction: column;align-items: center;background-color: white;padding-right: 0.2em;padding-left: 0.2em;position: relative;}#sk-container-id-5 div.sk-item {position: relative;z-index: 1;}#sk-container-id-5 div.sk-parallel {display: flex;align-items: stretch;justify-content: center;background-color: white;position: relative;}#sk-container-id-5 div.sk-item::before, #sk-container-id-5 div.sk-parallel-item::before {content: \"\";position: absolute;border-left: 1px solid gray;box-sizing: border-box;top: 0;bottom: 0;left: 50%;z-index: -1;}#sk-container-id-5 div.sk-parallel-item {display: flex;flex-direction: column;z-index: 1;position: relative;background-color: white;}#sk-container-id-5 div.sk-parallel-item:first-child::after {align-self: flex-end;width: 50%;}#sk-container-id-5 div.sk-parallel-item:last-child::after {align-self: flex-start;width: 50%;}#sk-container-id-5 div.sk-parallel-item:only-child::after {width: 0;}#sk-container-id-5 div.sk-dashed-wrapped {border: 1px dashed gray;margin: 0 0.4em 0.5em 0.4em;box-sizing: border-box;padding-bottom: 0.4em;background-color: white;}#sk-container-id-5 div.sk-label label {font-family: monospace;font-weight: bold;display: inline-block;line-height: 1.2em;}#sk-container-id-5 div.sk-label-container {text-align: center;}#sk-container-id-5 div.sk-container {/* jupyter's `normalize.less` sets `[hidden] { display: none; }` but bootstrap.min.css set `[hidden] { display: none !important; }` so we also need the `!important` here to be able to override the default hidden behavior on the sphinx rendered scikit-learn.org. See: https://github.com/scikit-learn/scikit-learn/issues/21755 */display: inline-block !important;position: relative;}#sk-container-id-5 div.sk-text-repr-fallback {display: none;}</style><div id=\"sk-container-id-5\" class=\"sk-top-container\"><div class=\"sk-text-repr-fallback\"><pre>DecisionTreeClassifier()</pre><b>In a Jupyter environment, please rerun this cell to show the HTML representation or trust the notebook. <br />On GitHub, the HTML representation is unable to render, please try loading this page with nbviewer.org.</b></div><div class=\"sk-container\" hidden><div class=\"sk-item\"><div class=\"sk-estimator sk-toggleable\"><input class=\"sk-toggleable__control sk-hidden--visually\" id=\"sk-estimator-id-5\" type=\"checkbox\" checked><label for=\"sk-estimator-id-5\" class=\"sk-toggleable__label sk-toggleable__label-arrow\">DecisionTreeClassifier</label><div class=\"sk-toggleable__content\"><pre>DecisionTreeClassifier()</pre></div></div></div></div></div>"
      ],
      "text/plain": [
       "DecisionTreeClassifier()"
      ]
     },
     "execution_count": 163,
     "metadata": {},
     "output_type": "execute_result"
    }
   ],
   "source": [
    "classifier = DTC()\n",
    "classifier.fit(x_train, y_train)"
   ]
  },
  {
   "cell_type": "markdown",
   "id": "d3035d82-7357-4fab-8daa-654a95536e22",
   "metadata": {
    "id": "d3035d82-7357-4fab-8daa-654a95536e22"
   },
   "source": [
    "## Helper functions"
   ]
  },
  {
   "cell_type": "code",
   "execution_count": 164,
   "id": "ac997a96-7c99-4b05-a9d2-2bbe5ee65144",
   "metadata": {
    "id": "ac997a96-7c99-4b05-a9d2-2bbe5ee65144",
    "tags": []
   },
   "outputs": [],
   "source": [
    "from sklearn. metrics import f1_score\n",
    "def calc_score(model, x1, y1, x2, y2):\n",
    "    model.fit(x1, y1)\n",
    "\n",
    "    predict = model.predict(x1)\n",
    "    f1 = f1_score(y1, predict)\n",
    "\n",
    "    predict = model.predict(x2)\n",
    "    f2 = f1_score(y2, predict)\n",
    "    return f1, f2"
   ]
  },
  {
   "cell_type": "code",
   "execution_count": 165,
   "id": "cb43e6af-38ac-4410-b069-9a1e9c08796c",
   "metadata": {
    "id": "cb43e6af-38ac-4410-b069-9a1e9c08796c",
    "tags": []
   },
   "outputs": [],
   "source": [
    "def effect(train_score, test_score, x_axis, title):\n",
    "    plt.figure(figsize = (5,5), dpi = 120)\n",
    "    plt.plot(x_axis, train_score, color = 'red', label = 'tran_Score')\n",
    "    plt.plot(x_axis, test_score, color = 'blue', label = \"test_Score\")\n",
    "    plt.title(title)\n",
    "    plt.legend()\n",
    "    plt.xlabel(\"parameter_value\")\n",
    "    plt.ylabel(\"f1 score\")\n",
    "    plt.show()"
   ]
  },
  {
   "cell_type": "markdown",
   "id": "adeba01d-1065-4fae-9f4e-042abd46f7cd",
   "metadata": {
    "id": "adeba01d-1065-4fae-9f4e-042abd46f7cd"
   },
   "source": [
    "### Max Depth"
   ]
  },
  {
   "cell_type": "code",
   "execution_count": 166,
   "id": "e4375c12-ee1f-405b-b05a-1f859b3e7d24",
   "metadata": {
    "id": "e4375c12-ee1f-405b-b05a-1f859b3e7d24",
    "tags": []
   },
   "outputs": [],
   "source": [
    "maxdepth = [i for i in range (1,30)]\n",
    "train = []\n",
    "test = []\n",
    "for i in maxdepth:\n",
    "    model = DTC (class_weight = 'balanced', max_depth = i, random_state = 98)\n",
    "    f1, f2 = calc_score(model, x_train, y_train, x_test, y_test)\n",
    "    train.append(f1)\n",
    "    test.append(f2)"
   ]
  },
  {
   "cell_type": "code",
   "execution_count": 167,
   "id": "df3ccc8d-ad23-4860-ad09-feaaee5288bb",
   "metadata": {
    "id": "df3ccc8d-ad23-4860-ad09-feaaee5288bb",
    "tags": []
   },
   "outputs": [
    {
     "data": {
      "image/png": "[encoded data removed]",
      "text/plain": [
       "<Figure size 600x600 with 1 Axes>"
      ]
     },
     "metadata": {},
     "output_type": "display_data"
    }
   ],
   "source": [
    "effect(train, test, range(1,30), \"max_depth\")"
   ]
  },
  {
   "cell_type": "code",
   "execution_count": 168,
   "id": "26a1137f-1b4d-4565-952d-9e7f5c0ff281",
   "metadata": {
    "tags": []
   },
   "outputs": [],
   "source": [
    "MaxDepth = 5"
   ]
  },
  {
   "cell_type": "markdown",
   "id": "fa72d8c8-9b59-4001-93ad-a3f11d0feb35",
   "metadata": {
    "id": "fa72d8c8-9b59-4001-93ad-a3f11d0feb35"
   },
   "source": [
    "### Min Sample Split"
   ]
  },
  {
   "cell_type": "code",
   "execution_count": 169,
   "id": "700ad665-43e7-4009-abd2-0445552b11a9",
   "metadata": {
    "id": "700ad665-43e7-4009-abd2-0445552b11a9",
    "tags": []
   },
   "outputs": [],
   "source": [
    "min_samples = [i for i in range (2,600,10)]\n",
    "train = []\n",
    "test = []\n",
    "for i in min_samples:\n",
    "    model = DTC (class_weight = 'balanced', min_samples_split = i, random_state = 98, max_depth = MaxDepth)\n",
    "    f1, f2 = calc_score(model, x_train, y_train, x_test, y_test)\n",
    "    train.append(f1)\n",
    "    test.append(f2)"
   ]
  },
  {
   "cell_type": "code",
   "execution_count": 170,
   "id": "1c8a8d5f-2b62-4c26-8713-8c6a151227e2",
   "metadata": {
    "id": "1c8a8d5f-2b62-4c26-8713-8c6a151227e2",
    "tags": []
   },
   "outputs": [
    {
     "data": {
      "image/png": "[encoded data removed]",
      "text/plain": [
       "<Figure size 600x600 with 1 Axes>"
      ]
     },
     "metadata": {},
     "output_type": "display_data"
    }
   ],
   "source": [
    "effect(train, test, range(2,600,10), \"min_sample_split\")"
   ]
  },
  {
   "cell_type": "code",
   "execution_count": 194,
   "id": "040cf0e1-ae98-4998-83f7-8c8b42d53c8b",
   "metadata": {
    "tags": []
   },
   "outputs": [],
   "source": [
    "MinSamplesSplit = 3"
   ]
  },
  {
   "cell_type": "markdown",
   "id": "4237c377-d949-4f7b-9486-d8377d343730",
   "metadata": {
    "id": "4237c377-d949-4f7b-9486-d8377d343730"
   },
   "source": [
    "### Max leaf Node"
   ]
  },
  {
   "cell_type": "code",
   "execution_count": 172,
   "id": "86be9d29-fd4e-4230-b9d3-9abff41d1110",
   "metadata": {
    "id": "86be9d29-fd4e-4230-b9d3-9abff41d1110",
    "tags": []
   },
   "outputs": [],
   "source": [
    "maxleafnodes = [i for i in range(2,200,20)]\n",
    "train = []\n",
    "test = []\n",
    "for i in maxleafnodes:\n",
    "    model = DTC(class_weight = 'balanced', max_leaf_nodes = i, random_state = 98, max_depth = MaxDepth)\n",
    "    f1, f2 = calc_score(model, x_train, y_train, x_test, y_test)\n",
    "    train.append(f1)\n",
    "    test.append(f2)"
   ]
  },
  {
   "cell_type": "code",
   "execution_count": 173,
   "id": "d1ef037a-20c1-461c-8024-3aa122b4d482",
   "metadata": {
    "id": "d1ef037a-20c1-461c-8024-3aa122b4d482",
    "tags": []
   },
   "outputs": [
    {
     "data": {
      "image/png": "[encoded data removed]",
      "text/plain": [
       "<Figure size 600x600 with 1 Axes>"
      ]
     },
     "metadata": {},
     "output_type": "display_data"
    }
   ],
   "source": [
    "effect(train, test, range(2,200,20), \"max_leaf_nodes\")"
   ]
  },
  {
   "cell_type": "code",
   "execution_count": 186,
   "id": "0be37d4d-90f8-4351-90d7-c61445df0d84",
   "metadata": {
    "tags": []
   },
   "outputs": [],
   "source": [
    "MaxLeafNodes = 22"
   ]
  },
  {
   "cell_type": "markdown",
   "id": "eba75855-370d-4d0d-a688-5df8b54146ab",
   "metadata": {
    "id": "eba75855-370d-4d0d-a688-5df8b54146ab"
   },
   "source": [
    "### Min Sample leaf"
   ]
  },
  {
   "cell_type": "code",
   "execution_count": 175,
   "id": "08d2f926-4973-40ca-9567-36f55be2dbba",
   "metadata": {
    "id": "08d2f926-4973-40ca-9567-36f55be2dbba",
    "tags": []
   },
   "outputs": [],
   "source": [
    "minsamplesleaf = [i for i in range(2,700,10)]\n",
    "train = []\n",
    "test = []\n",
    "for i in minsamplesleaf:\n",
    "    model = DTC (class_weight = 'balanced', min_samples_leaf = i, random_state = 98, max_depth = MaxDepth)\n",
    "    f1, f2 = calc_score(model, x_train, y_train, x_test, y_test)\n",
    "    train.append(f1)\n",
    "    test.append(f2)"
   ]
  },
  {
   "cell_type": "code",
   "execution_count": 176,
   "id": "1fe2b349-296f-4424-9c57-a3ad4e66d377",
   "metadata": {
    "id": "1fe2b349-296f-4424-9c57-a3ad4e66d377",
    "tags": []
   },
   "outputs": [
    {
     "data": {
      "image/png": "[encoded data removed]",
      "text/plain": [
       "<Figure size 600x600 with 1 Axes>"
      ]
     },
     "metadata": {},
     "output_type": "display_data"
    }
   ],
   "source": [
    "effect(train, test, range(2,700,10), \"min_samples_leaf\")"
   ]
  },
  {
   "cell_type": "code",
   "execution_count": 187,
   "id": "65f86c05-56ca-454d-95ea-0eeee9f22067",
   "metadata": {
    "tags": []
   },
   "outputs": [],
   "source": [
    "MinSamplesLeaf = 10"
   ]
  },
  {
   "cell_type": "markdown",
   "id": "9049e42e-7393-4c7a-a844-3fd22b737a77",
   "metadata": {
    "id": "86503645-a63a-4fda-95e4-2cba96cdab54"
   },
   "source": [
    "# Updated model"
   ]
  },
  {
   "cell_type": "code",
   "execution_count": 195,
   "id": "f48d6c24-67f1-4297-8cb0-24c449331fa7",
   "metadata": {
    "tags": []
   },
   "outputs": [],
   "source": [
    "from sklearn.tree import DecisionTreeClassifier as DTC\n",
    "classifier = DTC( criterion = \"entropy\", class_weight = 'balanced', max_depth = MaxDepth, min_samples_split = MinSamplesSplit, max_leaf_nodes = MaxLeafNodes, min_samples_leaf = MinSamplesLeaf)\n"
   ]
  },
  {
   "cell_type": "code",
   "execution_count": 196,
   "id": "dab7fcbf-8a74-4204-8271-1e32b8015956",
   "metadata": {
    "tags": []
   },
   "outputs": [],
   "source": [
    "classifier.fit(x_train, y_train)\n",
    "predicted_values = classifier.predict(x_train)"
   ]
  },
  {
   "cell_type": "markdown",
   "id": "d47f8f70-bc05-4e70-ad41-839e5db5728a",
   "metadata": {},
   "source": [
    "#### Performance of updated model"
   ]
  },
  {
   "cell_type": "code",
   "execution_count": 197,
   "id": "666b0fb8-094d-4418-bf95-aad67da713c0",
   "metadata": {
    "tags": []
   },
   "outputs": [
    {
     "name": "stdout",
     "output_type": "stream",
     "text": [
      "              precision    recall  f1-score   support\n",
      "\n",
      "         0.0       0.91      0.78      0.84     86815\n",
      "         1.0       0.49      0.74      0.59     24668\n",
      "\n",
      "    accuracy                           0.77    111483\n",
      "   macro avg       0.70      0.76      0.72    111483\n",
      "weighted avg       0.82      0.77      0.79    111483\n",
      "\n"
     ]
    }
   ],
   "source": [
    "from sklearn.metrics import classification_report\n",
    "print (classification_report(y_train, predicted_values))"
   ]
  },
  {
   "cell_type": "code",
   "execution_count": 198,
   "id": "96eee739-27fa-4a68-9b1a-6fa2f05bb62b",
   "metadata": {
    "tags": []
   },
   "outputs": [
    {
     "name": "stdout",
     "output_type": "stream",
     "text": [
      "              precision    recall  f1-score   support\n",
      "\n",
      "         0.0       0.91      0.78      0.84     21704\n",
      "         1.0       0.48      0.74      0.58      6167\n",
      "\n",
      "    accuracy                           0.77     27871\n",
      "   macro avg       0.70      0.76      0.71     27871\n",
      "weighted avg       0.82      0.77      0.78     27871\n",
      "\n"
     ]
    }
   ],
   "source": [
    "predicted_values = classifier.predict(x_test)\n",
    "print (classification_report(y_test, predicted_values))"
   ]
  },
  {
   "cell_type": "code",
   "execution_count": 199,
   "id": "b0a55f9b-026c-43e3-971e-2e7908655abd",
   "metadata": {
    "tags": []
   },
   "outputs": [
    {
     "data": {
      "text/plain": [
       "0.7675361486850131"
      ]
     },
     "execution_count": 199,
     "metadata": {},
     "output_type": "execute_result"
    }
   ],
   "source": [
    "from sklearn.metrics import accuracy_score\n",
    "accuracy_score(y_test, predicted_values)\n"
   ]
  },
  {
   "cell_type": "markdown",
   "id": "69f8d511-2e76-464f-8cd8-dfd3710d2b04",
   "metadata": {},
   "source": [
    "# visualizing the updated model"
   ]
  },
  {
   "cell_type": "code",
   "execution_count": 200,
   "id": "50657736-b236-4762-9219-c3fa6951c3ab",
   "metadata": {
    "tags": []
   },
   "outputs": [],
   "source": [
    "# export_graphviz (decision_tree = classifier, out_file = 'tree_viz', max_depth=MaxDepth, feature_names = X.columns, label = \"none\", impurity = False)\n",
    "# render( filepath='RaintToday_tree_viz', format = 'png', engine = 'neato')\n"
   ]
  },
  {
   "cell_type": "markdown",
   "id": "257293e1-5b27-41d8-9045-66ce76adacbb",
   "metadata": {},
   "source": [
    "# dumping to pickle file"
   ]
  },
  {
   "cell_type": "code",
   "execution_count": 201,
   "id": "d3b808a8-61c8-469d-bf72-5033993ed477",
   "metadata": {},
   "outputs": [],
   "source": [
    "import pickle\n",
    "pickle.dump(classifier, open(\"RainTomorrow.pkl\", \"wb\"))"
   ]
  },
  {
   "cell_type": "code",
   "execution_count": null,
   "id": "a7e84705-6bff-4728-8ce2-1f9c398bd828",
   "metadata": {},
   "outputs": [],
   "source": []
  },
  {
   "cell_type": "code",
   "execution_count": null,
   "id": "369203e0-2cac-431d-86ed-5002c10d0b0d",
   "metadata": {},
   "outputs": [],
   "source": []
  }
 ],
 "metadata": {
  "colab": {
   "provenance": []
  },
  "kernelspec": {
   "display_name": "Python 3 (ipykernel)",
   "language": "python",
   "name": "python3"
  },
  "language_info": {
   "codemirror_mode": {
    "name": "ipython",
    "version": 3
   },
   "file_extension": ".py",
   "mimetype": "text/x-python",
   "name": "python",
   "nbconvert_exporter": "python",
   "pygments_lexer": "ipython3",
   "version": "3.11.4"
  }
 },
 "nbformat": 4,
 "nbformat_minor": 5
}
