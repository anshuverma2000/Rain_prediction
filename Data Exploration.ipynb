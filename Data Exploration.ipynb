{
 "cells": [
  {
   "cell_type": "markdown",
   "metadata": {},
   "source": [
    "## Importing Libraries"
   ]
  },
  {
   "cell_type": "code",
   "execution_count": 800,
   "metadata": {
    "executionInfo": {
     "elapsed": 1755,
     "status": "ok",
     "timestamp": 1693553131824,
     "user": {
      "displayName": "Anshu Verma",
      "userId": "17226440237185384928"
     },
     "user_tz": -330
    },
    "id": "vCaef1kM4b2m"
   },
   "outputs": [],
   "source": [
    "import pandas as pd\n",
    "import numpy as np\n",
    "import matplotlib.pyplot as plt\n",
    "import seaborn as sns\n",
    "from sklearn.impute import SimpleImputer\n",
    "from sklearn.experimental import enable_iterative_imputer\n",
    "from sklearn.impute import IterativeImputer\n",
    "from sklearn.impute import KNNImputer\n",
    "from sklearn.model_selection import train_test_split\n",
    "from sklearn import preprocessing"
   ]
  },
  {
   "cell_type": "markdown",
   "metadata": {},
   "source": [
    "### Importing the data into the Dataframe df"
   ]
  },
  {
   "cell_type": "code",
   "execution_count": 801,
   "metadata": {
    "colab": {
     "base_uri": "https://localhost:8080/",
     "height": 346
    },
    "executionInfo": {
     "elapsed": 8,
     "status": "error",
     "timestamp": 1693553190276,
     "user": {
      "displayName": "Anshu Verma",
      "userId": "17226440237185384928"
     },
     "user_tz": -330
    },
    "id": "_PqpRnV-4wux",
    "outputId": "6d5fc580-9ff0-4626-8544-9d2489eb64d5"
   },
   "outputs": [],
   "source": [
    "df = pd.read_csv(\"weatherAUS.csv\")"
   ]
  },
  {
   "cell_type": "code",
   "execution_count": 802,
   "metadata": {
    "tags": []
   },
   "outputs": [
    {
     "data": {
      "text/plain": [
       "Index(['Date', 'Location', 'MinTemp', 'MaxTemp', 'Rainfall', 'Evaporation',\n",
       "       'Sunshine', 'WindGustDir', 'WindGustSpeed', 'WindDir9am', 'WindDir3pm',\n",
       "       'WindSpeed9am', 'WindSpeed3pm', 'Humidity9am', 'Humidity3pm',\n",
       "       'Pressure9am', 'Pressure3pm', 'Cloud9am', 'Cloud3pm', 'Temp9am',\n",
       "       'Temp3pm', 'RainToday', 'RainTomorrow'],\n",
       "      dtype='object')"
      ]
     },
     "execution_count": 802,
     "metadata": {},
     "output_type": "execute_result"
    }
   ],
   "source": [
    "df.columns"
   ]
  },
  {
   "cell_type": "code",
   "execution_count": 803,
   "metadata": {
    "executionInfo": {
     "elapsed": 10,
     "status": "aborted",
     "timestamp": 1693553132261,
     "user": {
      "displayName": "Anshu Verma",
      "userId": "17226440237185384928"
     },
     "user_tz": -330
    },
    "id": "vlx71GWP43uo",
    "scrolled": true
   },
   "outputs": [
    {
     "name": "stdout",
     "output_type": "stream",
     "text": [
      "<class 'pandas.core.frame.DataFrame'>\n",
      "RangeIndex: 145460 entries, 0 to 145459\n",
      "Data columns (total 23 columns):\n",
      " #   Column         Non-Null Count   Dtype  \n",
      "---  ------         --------------   -----  \n",
      " 0   Date           145460 non-null  object \n",
      " 1   Location       145460 non-null  object \n",
      " 2   MinTemp        143975 non-null  float64\n",
      " 3   MaxTemp        144199 non-null  float64\n",
      " 4   Rainfall       142199 non-null  float64\n",
      " 5   Evaporation    82670 non-null   float64\n",
      " 6   Sunshine       75625 non-null   float64\n",
      " 7   WindGustDir    135134 non-null  object \n",
      " 8   WindGustSpeed  135197 non-null  float64\n",
      " 9   WindDir9am     134894 non-null  object \n",
      " 10  WindDir3pm     141232 non-null  object \n",
      " 11  WindSpeed9am   143693 non-null  float64\n",
      " 12  WindSpeed3pm   142398 non-null  float64\n",
      " 13  Humidity9am    142806 non-null  float64\n",
      " 14  Humidity3pm    140953 non-null  float64\n",
      " 15  Pressure9am    130395 non-null  float64\n",
      " 16  Pressure3pm    130432 non-null  float64\n",
      " 17  Cloud9am       89572 non-null   float64\n",
      " 18  Cloud3pm       86102 non-null   float64\n",
      " 19  Temp9am        143693 non-null  float64\n",
      " 20  Temp3pm        141851 non-null  float64\n",
      " 21  RainToday      142199 non-null  object \n",
      " 22  RainTomorrow   142193 non-null  object \n",
      "dtypes: float64(16), object(7)\n",
      "memory usage: 25.5+ MB\n"
     ]
    }
   ],
   "source": [
    "df.info()"
   ]
  },
  {
   "cell_type": "markdown",
   "metadata": {},
   "source": [
    "### Traget Variables"
   ]
  },
  {
   "cell_type": "code",
   "execution_count": 804,
   "metadata": {
    "executionInfo": {
     "elapsed": 10,
     "status": "aborted",
     "timestamp": 1693553132262,
     "user": {
      "displayName": "Anshu Verma",
      "userId": "17226440237185384928"
     },
     "user_tz": -330
    },
    "id": "k6Us5AUEoc4v"
   },
   "outputs": [
    {
     "name": "stdout",
     "output_type": "stream",
     "text": [
      "col_0          count\n",
      "RainTomorrow        \n",
      "No            110316\n",
      "Yes            31877\n",
      "col_0       count\n",
      "RainToday        \n",
      "No         110319\n",
      "Yes         31880\n"
     ]
    }
   ],
   "source": [
    "RainTomorrow_freq = pd.crosstab(index=df[\"RainTomorrow\"], columns=\"count\")\n",
    "RainToday_freq = pd.crosstab(index = df[\"RainToday\"], columns=\"count\")\n",
    "print(RainTomorrow_freq)\n",
    "print(RainToday_freq)"
   ]
  },
  {
   "cell_type": "code",
   "execution_count": 805,
   "metadata": {
    "executionInfo": {
     "elapsed": 10,
     "status": "aborted",
     "timestamp": 1693553132262,
     "user": {
      "displayName": "Anshu Verma",
      "userId": "17226440237185384928"
     },
     "user_tz": -330
    },
    "id": "VguNTk3zoc4w"
   },
   "outputs": [
    {
     "data": {
      "image/png": "[encoded data removed]",
      "text/plain": [
       "<Figure size 640x480 with 1 Axes>"
      ]
     },
     "metadata": {},
     "output_type": "display_data"
    },
    {
     "data": {
      "image/png": "[encoded data removed]",
      "text/plain": [
       "<Figure size 640x480 with 1 Axes>"
      ]
     },
     "metadata": {},
     "output_type": "display_data"
    }
   ],
   "source": [
    "RainTomorrow_freq.plot(kind=\"bar\", color=\"blue\")\n",
    "plt.title(\"RainTomorrow Frequency\")\n",
    "plt.xlabel(\"RainTomorrow\")\n",
    "plt.ylabel(\"Frequency\")\n",
    "plt.show()\n",
    "\n",
    "RainToday_freq.plot(kind=\"bar\", color=\"blue\")\n",
    "plt.title(\"RainToday Frequency\")\n",
    "plt.xlabel(\"RainToday\")\n",
    "plt.ylabel(\"Frequency\")\n",
    "plt.show()\n",
    "\n"
   ]
  },
  {
   "cell_type": "code",
   "execution_count": 806,
   "metadata": {
    "executionInfo": {
     "elapsed": 10,
     "status": "aborted",
     "timestamp": 1693553132262,
     "user": {
      "displayName": "Anshu Verma",
      "userId": "17226440237185384928"
     },
     "user_tz": -330
    },
    "id": "srRKDFgAoc4w"
   },
   "outputs": [],
   "source": [
    "# Deleteing the rows in which the value of the column RainToday and RainTomorrow is null\n",
    "\n",
    "df = df.dropna(subset=['RainToday', 'RainTomorrow'])"
   ]
  },
  {
   "cell_type": "markdown",
   "metadata": {},
   "source": [
    "### converting to float from string"
   ]
  },
  {
   "cell_type": "code",
   "execution_count": 807,
   "metadata": {
    "tags": []
   },
   "outputs": [],
   "source": [
    "df.RainToday = df.RainToday.map({\"Yes\": 1.0, \"No\": 0.0})"
   ]
  },
  {
   "cell_type": "code",
   "execution_count": 808,
   "metadata": {
    "tags": []
   },
   "outputs": [],
   "source": [
    "df.RainTomorrow = df.RainTomorrow.map({\"Yes\": 1.0, \"No\": 0.0})"
   ]
  },
  {
   "cell_type": "markdown",
   "metadata": {},
   "source": [
    "### Exploring MinTemp and MaxTemp"
   ]
  },
  {
   "cell_type": "code",
   "execution_count": 809,
   "metadata": {
    "executionInfo": {
     "elapsed": 9,
     "status": "aborted",
     "timestamp": 1693553132262,
     "user": {
      "displayName": "Anshu Verma",
      "userId": "17226440237185384928"
     },
     "user_tz": -330
    },
    "id": "44RQKMcWoc4x"
   },
   "outputs": [
    {
     "name": "stdout",
     "output_type": "stream",
     "text": [
      "MinTemp\n",
      "count    140319.000000\n",
      "mean         12.184824\n",
      "std           6.403879\n",
      "min          -8.500000\n",
      "25%           7.600000\n",
      "50%          12.000000\n",
      "75%          16.800000\n",
      "max          33.900000\n",
      "Name: MinTemp, dtype: float64\n",
      "Missing Values 468\n",
      "\n",
      " MaxTemp\n",
      "count    140480.00000\n",
      "mean         23.23512\n",
      "std           7.11450\n",
      "min          -4.80000\n",
      "25%          17.90000\n",
      "50%          22.60000\n",
      "75%          28.30000\n",
      "max          48.10000\n",
      "Name: MaxTemp, dtype: float64\n",
      "Missing Values 307\n"
     ]
    }
   ],
   "source": [
    "print(\"MinTemp\")\n",
    "print(df.MinTemp.describe())\n",
    "print(\"Missing Values\", df.MinTemp.isnull().sum())\n",
    "print(\"\\n MaxTemp\")\n",
    "print(df.MaxTemp.describe())\n",
    "print(\"Missing Values\", df.MaxTemp.isnull().sum())"
   ]
  },
  {
   "cell_type": "code",
   "execution_count": 810,
   "metadata": {},
   "outputs": [
    {
     "data": {
      "text/plain": [
       "<Axes: xlabel='MinTemp', ylabel='Count'>"
      ]
     },
     "execution_count": 810,
     "metadata": {},
     "output_type": "execute_result"
    },
    {
     "data": {
      "image/png": "[encoded data removed]",
      "text/plain": [
       "<Figure size 640x480 with 1 Axes>"
      ]
     },
     "metadata": {},
     "output_type": "display_data"
    }
   ],
   "source": [
    "sns.histplot(data = df.MinTemp, binwidth = 1, color = \"blue\",legend=True)\n",
    "sns.histplot(data = df.MaxTemp, binwidth = 1, color = \"red\", legend=True)"
   ]
  },
  {
   "cell_type": "markdown",
   "metadata": {},
   "source": [
    "#### Fixing missing values of min and max temperature by imputing mean values"
   ]
  },
  {
   "cell_type": "code",
   "execution_count": 811,
   "metadata": {
    "tags": []
   },
   "outputs": [],
   "source": [
    "impute_knn = KNNImputer(n_neighbors = 2)\n"
   ]
  },
  {
   "cell_type": "code",
   "execution_count": 812,
   "metadata": {
    "tags": []
   },
   "outputs": [],
   "source": [
    "df.MinTemp = impute_knn.fit_transform(df.MinTemp.values.reshape(-1, 1))\n",
    "df.MaxTemp = impute_knn.fit_transform(df.MaxTemp.values.reshape(-1, 1))"
   ]
  },
  {
   "cell_type": "code",
   "execution_count": 813,
   "metadata": {
    "tags": []
   },
   "outputs": [],
   "source": [
    "# iter_impute = IterativeImputer()"
   ]
  },
  {
   "cell_type": "code",
   "execution_count": 814,
   "metadata": {
    "tags": []
   },
   "outputs": [],
   "source": [
    "# df.MinTemp = iter_impute.fit_transform(df.MinTemp.values.reshape(-1,1))\n",
    "# df.MaxTemp = iter_impute.fit_transform(df.MaxTemp.values.reshape(-1,1))"
   ]
  },
  {
   "cell_type": "code",
   "execution_count": 815,
   "metadata": {
    "executionInfo": {
     "elapsed": 10,
     "status": "aborted",
     "timestamp": 1693553132264,
     "user": {
      "displayName": "Anshu Verma",
      "userId": "17226440237185384928"
     },
     "user_tz": -330
    },
    "id": "L9OLP9Agoc40"
   },
   "outputs": [],
   "source": [
    "# column = df.MinTemp.values.reshape(-1,1)\n",
    "# df.MinTemp = SimpleImputer(missing_values = np.nan, strategy = \"mean\").fit_transform(column)"
   ]
  },
  {
   "cell_type": "code",
   "execution_count": 816,
   "metadata": {},
   "outputs": [],
   "source": [
    "# column = df.MaxTemp.values.reshape(-1,1)\n",
    "# df.MaxTemp = SimpleImputer(missing_values = np.nan, strategy = \"mean\").fit_transform(column)"
   ]
  },
  {
   "cell_type": "code",
   "execution_count": 817,
   "metadata": {
    "tags": []
   },
   "outputs": [
    {
     "data": {
      "text/plain": [
       "<Axes: xlabel='MinTemp', ylabel='Count'>"
      ]
     },
     "execution_count": 817,
     "metadata": {},
     "output_type": "execute_result"
    },
    {
     "data": {
      "image/png": "[encoded data removed]",
      "text/plain": [
       "<Figure size 640x480 with 1 Axes>"
      ]
     },
     "metadata": {},
     "output_type": "display_data"
    }
   ],
   "source": [
    "sns.histplot(data = df.MinTemp, binwidth = 1, color = \"blue\",legend=True)\n",
    "sns.histplot(data = df.MaxTemp, binwidth = 1, color = \"red\", legend=True)\n"
   ]
  },
  {
   "cell_type": "markdown",
   "metadata": {},
   "source": [
    "### Exploring rainfall"
   ]
  },
  {
   "cell_type": "code",
   "execution_count": 818,
   "metadata": {},
   "outputs": [
    {
     "data": {
      "text/html": [
       "<div>\n",
       "<style scoped>\n",
       "    .dataframe tbody tr th:only-of-type {\n",
       "        vertical-align: middle;\n",
       "    }\n",
       "\n",
       "    .dataframe tbody tr th {\n",
       "        vertical-align: top;\n",
       "    }\n",
       "\n",
       "    .dataframe thead th {\n",
       "        text-align: right;\n",
       "    }\n",
       "</style>\n",
       "<table border=\"1\" class=\"dataframe\">\n",
       "  <thead>\n",
       "    <tr style=\"text-align: right;\">\n",
       "      <th></th>\n",
       "      <th>Rainfall</th>\n",
       "      <th>RainToday</th>\n",
       "    </tr>\n",
       "  </thead>\n",
       "  <tbody>\n",
       "    <tr>\n",
       "      <th>0</th>\n",
       "      <td>0.6</td>\n",
       "      <td>0.0</td>\n",
       "    </tr>\n",
       "    <tr>\n",
       "      <th>1</th>\n",
       "      <td>0.0</td>\n",
       "      <td>0.0</td>\n",
       "    </tr>\n",
       "    <tr>\n",
       "      <th>2</th>\n",
       "      <td>0.0</td>\n",
       "      <td>0.0</td>\n",
       "    </tr>\n",
       "    <tr>\n",
       "      <th>3</th>\n",
       "      <td>0.0</td>\n",
       "      <td>0.0</td>\n",
       "    </tr>\n",
       "    <tr>\n",
       "      <th>4</th>\n",
       "      <td>1.0</td>\n",
       "      <td>0.0</td>\n",
       "    </tr>\n",
       "  </tbody>\n",
       "</table>\n",
       "</div>"
      ],
      "text/plain": [
       "   Rainfall  RainToday\n",
       "0       0.6        0.0\n",
       "1       0.0        0.0\n",
       "2       0.0        0.0\n",
       "3       0.0        0.0\n",
       "4       1.0        0.0"
      ]
     },
     "execution_count": 818,
     "metadata": {},
     "output_type": "execute_result"
    }
   ],
   "source": [
    "df[[\"Rainfall\",\"RainToday\"]].head()"
   ]
  },
  {
   "cell_type": "code",
   "execution_count": 819,
   "metadata": {},
   "outputs": [
    {
     "data": {
      "text/plain": [
       "count    140787.000000\n",
       "mean          2.349974\n",
       "std           8.465173\n",
       "min           0.000000\n",
       "25%           0.000000\n",
       "50%           0.000000\n",
       "75%           0.800000\n",
       "max         371.000000\n",
       "Name: Rainfall, dtype: float64"
      ]
     },
     "execution_count": 819,
     "metadata": {},
     "output_type": "execute_result"
    }
   ],
   "source": [
    "df.Rainfall.describe()"
   ]
  },
  {
   "cell_type": "code",
   "execution_count": 820,
   "metadata": {},
   "outputs": [
    {
     "data": {
      "text/plain": [
       "count    0.0\n",
       "mean     NaN\n",
       "std      NaN\n",
       "min      NaN\n",
       "25%      NaN\n",
       "50%      NaN\n",
       "75%      NaN\n",
       "max      NaN\n",
       "Name: Rainfall, dtype: float64"
      ]
     },
     "execution_count": 820,
     "metadata": {},
     "output_type": "execute_result"
    }
   ],
   "source": [
    "# minimum rainfall on days where RainToday = Yes\n",
    "df[df.RainToday == \"Yes\"].Rainfall.describe()"
   ]
  },
  {
   "cell_type": "code",
   "execution_count": 821,
   "metadata": {},
   "outputs": [
    {
     "data": {
      "text/plain": [
       "count    0.0\n",
       "mean     NaN\n",
       "std      NaN\n",
       "min      NaN\n",
       "25%      NaN\n",
       "50%      NaN\n",
       "75%      NaN\n",
       "max      NaN\n",
       "Name: Rainfall, dtype: float64"
      ]
     },
     "execution_count": 821,
     "metadata": {},
     "output_type": "execute_result"
    }
   ],
   "source": [
    "# Maximmum rainfall on days where RainToday = No\n",
    "\n",
    "df[df.RainToday == \"No\"].Rainfall.describe()"
   ]
  },
  {
   "cell_type": "code",
   "execution_count": 822,
   "metadata": {},
   "outputs": [
    {
     "data": {
      "text/plain": [
       "0"
      ]
     },
     "execution_count": 822,
     "metadata": {},
     "output_type": "execute_result"
    }
   ],
   "source": [
    "df.Rainfall.isnull().sum()"
   ]
  },
  {
   "cell_type": "code",
   "execution_count": 823,
   "metadata": {},
   "outputs": [
    {
     "data": {
      "image/png": "[encoded data removed]",
      "text/plain": [
       "<Figure size 640x480 with 1 Axes>"
      ]
     },
     "metadata": {},
     "output_type": "display_data"
    }
   ],
   "source": [
    "plt.hist(df.Rainfall)\n",
    "plt.show()"
   ]
  },
  {
   "cell_type": "markdown",
   "metadata": {},
   "source": [
    "#### Transforming Rainfall data into square rooot"
   ]
  },
  {
   "cell_type": "code",
   "execution_count": 824,
   "metadata": {},
   "outputs": [],
   "source": [
    "df.Rainfall = df.Rainfall.apply(lambda x: np.sqrt(x))"
   ]
  },
  {
   "cell_type": "code",
   "execution_count": 825,
   "metadata": {
    "tags": []
   },
   "outputs": [
    {
     "data": {
      "image/png": "[encoded data removed]",
      "text/plain": [
       "<Figure size 640x480 with 1 Axes>"
      ]
     },
     "metadata": {},
     "output_type": "display_data"
    }
   ],
   "source": [
    "plt.hist(df.Rainfall)\n",
    "plt.show()"
   ]
  },
  {
   "cell_type": "markdown",
   "metadata": {},
   "source": [
    "### Exploring Temp9am and Temp3pm"
   ]
  },
  {
   "cell_type": "code",
   "execution_count": 826,
   "metadata": {},
   "outputs": [
    {
     "name": "stdout",
     "output_type": "stream",
     "text": [
      "Temp9am\n",
      "count    140131.000000\n",
      "mean         16.987066\n",
      "std           6.496012\n",
      "min          -7.200000\n",
      "25%          12.300000\n",
      "50%          16.700000\n",
      "75%          21.600000\n",
      "max          40.200000\n",
      "Name: Temp9am, dtype: float64\n",
      "missing Values 656\n",
      "\n",
      "Temp3pm\n",
      "count    138163.000000\n",
      "mean         21.693183\n",
      "std           6.937784\n",
      "min          -5.400000\n",
      "25%          16.600000\n",
      "50%          21.100000\n",
      "75%          26.400000\n",
      "max          46.700000\n",
      "Name: Temp3pm, dtype: float64\n",
      "missing Values 2624\n"
     ]
    }
   ],
   "source": [
    "print(\"Temp9am\")\n",
    "print(df.Temp9am.describe())\n",
    "print(\"missing Values\",df.Temp9am.isnull().sum())\n",
    "print(\"\\nTemp3pm\")\n",
    "print(df.Temp3pm.describe())\n",
    "print(\"missing Values\",df.Temp3pm.isnull().sum())"
   ]
  },
  {
   "cell_type": "code",
   "execution_count": 827,
   "metadata": {
    "tags": []
   },
   "outputs": [
    {
     "data": {
      "text/plain": [
       "<Axes: xlabel='Temp9am', ylabel='Count'>"
      ]
     },
     "execution_count": 827,
     "metadata": {},
     "output_type": "execute_result"
    },
    {
     "data": {
      "image/png": "[encoded data removed]",
      "text/plain": [
       "<Figure size 640x480 with 1 Axes>"
      ]
     },
     "metadata": {},
     "output_type": "display_data"
    }
   ],
   "source": [
    "sns.histplot(data = df.Temp9am, binwidth = 1, color = \"blue\")\n",
    "sns.histplot(data = df.Temp3pm, binwidth = 1, color = \"red\")"
   ]
  },
  {
   "cell_type": "code",
   "execution_count": 828,
   "metadata": {},
   "outputs": [
    {
     "data": {
      "text/html": [
       "<div>\n",
       "<style scoped>\n",
       "    .dataframe tbody tr th:only-of-type {\n",
       "        vertical-align: middle;\n",
       "    }\n",
       "\n",
       "    .dataframe tbody tr th {\n",
       "        vertical-align: top;\n",
       "    }\n",
       "\n",
       "    .dataframe thead th {\n",
       "        text-align: right;\n",
       "    }\n",
       "</style>\n",
       "<table border=\"1\" class=\"dataframe\">\n",
       "  <thead>\n",
       "    <tr style=\"text-align: right;\">\n",
       "      <th></th>\n",
       "      <th>Temp9am</th>\n",
       "      <th>MinTemp</th>\n",
       "      <th>Temp3pm</th>\n",
       "      <th>MaxTemp</th>\n",
       "    </tr>\n",
       "  </thead>\n",
       "  <tbody>\n",
       "    <tr>\n",
       "      <th>0</th>\n",
       "      <td>16.9</td>\n",
       "      <td>13.4</td>\n",
       "      <td>21.8</td>\n",
       "      <td>22.9</td>\n",
       "    </tr>\n",
       "    <tr>\n",
       "      <th>1</th>\n",
       "      <td>17.2</td>\n",
       "      <td>7.4</td>\n",
       "      <td>24.3</td>\n",
       "      <td>25.1</td>\n",
       "    </tr>\n",
       "    <tr>\n",
       "      <th>2</th>\n",
       "      <td>21.0</td>\n",
       "      <td>12.9</td>\n",
       "      <td>23.2</td>\n",
       "      <td>25.7</td>\n",
       "    </tr>\n",
       "    <tr>\n",
       "      <th>3</th>\n",
       "      <td>18.1</td>\n",
       "      <td>9.2</td>\n",
       "      <td>26.5</td>\n",
       "      <td>28.0</td>\n",
       "    </tr>\n",
       "    <tr>\n",
       "      <th>4</th>\n",
       "      <td>17.8</td>\n",
       "      <td>17.5</td>\n",
       "      <td>29.7</td>\n",
       "      <td>32.3</td>\n",
       "    </tr>\n",
       "    <tr>\n",
       "      <th>5</th>\n",
       "      <td>20.6</td>\n",
       "      <td>14.6</td>\n",
       "      <td>28.9</td>\n",
       "      <td>29.7</td>\n",
       "    </tr>\n",
       "    <tr>\n",
       "      <th>6</th>\n",
       "      <td>18.1</td>\n",
       "      <td>14.3</td>\n",
       "      <td>24.6</td>\n",
       "      <td>25.0</td>\n",
       "    </tr>\n",
       "    <tr>\n",
       "      <th>7</th>\n",
       "      <td>16.3</td>\n",
       "      <td>7.7</td>\n",
       "      <td>25.5</td>\n",
       "      <td>26.7</td>\n",
       "    </tr>\n",
       "    <tr>\n",
       "      <th>8</th>\n",
       "      <td>18.3</td>\n",
       "      <td>9.7</td>\n",
       "      <td>30.2</td>\n",
       "      <td>31.9</td>\n",
       "    </tr>\n",
       "    <tr>\n",
       "      <th>9</th>\n",
       "      <td>20.1</td>\n",
       "      <td>13.1</td>\n",
       "      <td>28.2</td>\n",
       "      <td>30.1</td>\n",
       "    </tr>\n",
       "    <tr>\n",
       "      <th>10</th>\n",
       "      <td>20.4</td>\n",
       "      <td>13.4</td>\n",
       "      <td>28.8</td>\n",
       "      <td>30.4</td>\n",
       "    </tr>\n",
       "    <tr>\n",
       "      <th>11</th>\n",
       "      <td>15.9</td>\n",
       "      <td>15.9</td>\n",
       "      <td>17.0</td>\n",
       "      <td>21.7</td>\n",
       "    </tr>\n",
       "    <tr>\n",
       "      <th>12</th>\n",
       "      <td>17.4</td>\n",
       "      <td>15.9</td>\n",
       "      <td>15.8</td>\n",
       "      <td>18.6</td>\n",
       "    </tr>\n",
       "    <tr>\n",
       "      <th>13</th>\n",
       "      <td>15.8</td>\n",
       "      <td>12.6</td>\n",
       "      <td>19.8</td>\n",
       "      <td>21.0</td>\n",
       "    </tr>\n",
       "    <tr>\n",
       "      <th>16</th>\n",
       "      <td>17.2</td>\n",
       "      <td>14.1</td>\n",
       "      <td>18.1</td>\n",
       "      <td>20.9</td>\n",
       "    </tr>\n",
       "    <tr>\n",
       "      <th>17</th>\n",
       "      <td>18.0</td>\n",
       "      <td>13.5</td>\n",
       "      <td>21.5</td>\n",
       "      <td>22.9</td>\n",
       "    </tr>\n",
       "    <tr>\n",
       "      <th>18</th>\n",
       "      <td>15.5</td>\n",
       "      <td>11.2</td>\n",
       "      <td>21.0</td>\n",
       "      <td>22.5</td>\n",
       "    </tr>\n",
       "    <tr>\n",
       "      <th>19</th>\n",
       "      <td>15.8</td>\n",
       "      <td>9.8</td>\n",
       "      <td>23.2</td>\n",
       "      <td>25.6</td>\n",
       "    </tr>\n",
       "    <tr>\n",
       "      <th>20</th>\n",
       "      <td>19.1</td>\n",
       "      <td>11.5</td>\n",
       "      <td>27.3</td>\n",
       "      <td>29.3</td>\n",
       "    </tr>\n",
       "    <tr>\n",
       "      <th>21</th>\n",
       "      <td>24.5</td>\n",
       "      <td>17.1</td>\n",
       "      <td>31.6</td>\n",
       "      <td>33.0</td>\n",
       "    </tr>\n",
       "  </tbody>\n",
       "</table>\n",
       "</div>"
      ],
      "text/plain": [
       "    Temp9am  MinTemp  Temp3pm  MaxTemp\n",
       "0      16.9     13.4     21.8     22.9\n",
       "1      17.2      7.4     24.3     25.1\n",
       "2      21.0     12.9     23.2     25.7\n",
       "3      18.1      9.2     26.5     28.0\n",
       "4      17.8     17.5     29.7     32.3\n",
       "5      20.6     14.6     28.9     29.7\n",
       "6      18.1     14.3     24.6     25.0\n",
       "7      16.3      7.7     25.5     26.7\n",
       "8      18.3      9.7     30.2     31.9\n",
       "9      20.1     13.1     28.2     30.1\n",
       "10     20.4     13.4     28.8     30.4\n",
       "11     15.9     15.9     17.0     21.7\n",
       "12     17.4     15.9     15.8     18.6\n",
       "13     15.8     12.6     19.8     21.0\n",
       "16     17.2     14.1     18.1     20.9\n",
       "17     18.0     13.5     21.5     22.9\n",
       "18     15.5     11.2     21.0     22.5\n",
       "19     15.8      9.8     23.2     25.6\n",
       "20     19.1     11.5     27.3     29.3\n",
       "21     24.5     17.1     31.6     33.0"
      ]
     },
     "execution_count": 828,
     "metadata": {},
     "output_type": "execute_result"
    }
   ],
   "source": [
    "df[[\"Temp9am\",\"MinTemp\",\"Temp3pm\",\"MaxTemp\"]].head(20)"
   ]
  },
  {
   "cell_type": "code",
   "execution_count": 829,
   "metadata": {},
   "outputs": [
    {
     "data": {
      "text/plain": [
       "count    138163.000000\n",
       "mean          1.508788\n",
       "std           1.255738\n",
       "min         -17.864880\n",
       "25%           0.700000\n",
       "50%           1.200000\n",
       "75%           1.900000\n",
       "max          23.035120\n",
       "dtype: float64"
      ]
     },
     "execution_count": 829,
     "metadata": {},
     "output_type": "execute_result"
    }
   ],
   "source": [
    "diff_max_3 = df['MaxTemp']-df[\"Temp3pm\"]\n",
    "diff_max_3.describe()"
   ]
  },
  {
   "cell_type": "code",
   "execution_count": 830,
   "metadata": {
    "tags": []
   },
   "outputs": [],
   "source": [
    "df.Temp3pm = df.Temp3pm.fillna(df.MaxTemp - diff_max_3.mean(),)"
   ]
  },
  {
   "cell_type": "code",
   "execution_count": 831,
   "metadata": {},
   "outputs": [
    {
     "data": {
      "text/plain": [
       "count    140131.000000\n",
       "mean          4.784604\n",
       "std           2.863760\n",
       "min          -5.484824\n",
       "25%           2.600000\n",
       "50%           4.400000\n",
       "75%           6.500000\n",
       "max          22.000000\n",
       "dtype: float64"
      ]
     },
     "execution_count": 831,
     "metadata": {},
     "output_type": "execute_result"
    }
   ],
   "source": [
    "diff_min_9 = df.Temp9am - df.MinTemp\n",
    "diff_min_9.describe()"
   ]
  },
  {
   "cell_type": "code",
   "execution_count": 832,
   "metadata": {
    "tags": []
   },
   "outputs": [],
   "source": [
    "df.Temp9am = df.Temp9am.fillna(df.MinTemp + diff_min_9.mean())"
   ]
  },
  {
   "cell_type": "code",
   "execution_count": 833,
   "metadata": {
    "tags": []
   },
   "outputs": [
    {
     "data": {
      "text/plain": [
       "<Axes: xlabel='Temp9am', ylabel='Count'>"
      ]
     },
     "execution_count": 833,
     "metadata": {},
     "output_type": "execute_result"
    },
    {
     "data": {
      "image/png": "[encoded data removed]",
      "text/plain": [
       "<Figure size 640x480 with 1 Axes>"
      ]
     },
     "metadata": {},
     "output_type": "display_data"
    }
   ],
   "source": [
    "sns.histplot(data = df.Temp9am, binwidth = 1, color = \"blue\")\n",
    "sns.histplot(data = df.Temp3pm, binwidth = 1, color = \"red\")"
   ]
  },
  {
   "cell_type": "code",
   "execution_count": 834,
   "metadata": {
    "tags": []
   },
   "outputs": [
    {
     "name": "stdout",
     "output_type": "stream",
     "text": [
      "<class 'pandas.core.frame.DataFrame'>\n",
      "Int64Index: 140787 entries, 0 to 145458\n",
      "Data columns (total 23 columns):\n",
      " #   Column         Non-Null Count   Dtype  \n",
      "---  ------         --------------   -----  \n",
      " 0   Date           140787 non-null  object \n",
      " 1   Location       140787 non-null  object \n",
      " 2   MinTemp        140787 non-null  float64\n",
      " 3   MaxTemp        140787 non-null  float64\n",
      " 4   Rainfall       140787 non-null  float64\n",
      " 5   Evaporation    81093 non-null   float64\n",
      " 6   Sunshine       73982 non-null   float64\n",
      " 7   WindGustDir    131624 non-null  object \n",
      " 8   WindGustSpeed  131682 non-null  float64\n",
      " 9   WindDir9am     131127 non-null  object \n",
      " 10  WindDir3pm     137117 non-null  object \n",
      " 11  WindSpeed9am   139732 non-null  float64\n",
      " 12  WindSpeed3pm   138256 non-null  float64\n",
      " 13  Humidity9am    139270 non-null  float64\n",
      " 14  Humidity3pm    137286 non-null  float64\n",
      " 15  Pressure9am    127044 non-null  float64\n",
      " 16  Pressure3pm    127018 non-null  float64\n",
      " 17  Cloud9am       88162 non-null   float64\n",
      " 18  Cloud3pm       84693 non-null   float64\n",
      " 19  Temp9am        140787 non-null  float64\n",
      " 20  Temp3pm        140787 non-null  float64\n",
      " 21  RainToday      140787 non-null  float64\n",
      " 22  RainTomorrow   140787 non-null  float64\n",
      "dtypes: float64(18), object(5)\n",
      "memory usage: 25.8+ MB\n"
     ]
    }
   ],
   "source": [
    "df.info()"
   ]
  },
  {
   "cell_type": "markdown",
   "metadata": {},
   "source": [
    "### Exploring Humidity9am and Humidity3pm"
   ]
  },
  {
   "cell_type": "code",
   "execution_count": 835,
   "metadata": {
    "tags": []
   },
   "outputs": [
    {
     "name": "stdout",
     "output_type": "stream",
     "text": [
      "9am\n",
      "count    139270.000000\n",
      "mean         68.826833\n",
      "std          19.063650\n",
      "min           0.000000\n",
      "25%          57.000000\n",
      "50%          70.000000\n",
      "75%          83.000000\n",
      "max         100.000000\n",
      "Name: Humidity9am, dtype: float64\n",
      "Missing values =  1517\n",
      "\n",
      "3pm\n",
      "count    137286.000000\n",
      "mean         51.449288\n",
      "std          20.807310\n",
      "min           0.000000\n",
      "25%          37.000000\n",
      "50%          52.000000\n",
      "75%          66.000000\n",
      "max         100.000000\n",
      "Name: Humidity3pm, dtype: float64\n",
      "Missing values =  3501\n"
     ]
    }
   ],
   "source": [
    "print(\"9am\")\n",
    "print(df.Humidity9am.describe())\n",
    "print(\"Missing values = \", df.Humidity9am.isnull().sum())\n",
    "print(\"\\n3pm\")\n",
    "print(df.Humidity3pm.describe())\n",
    "print(\"Missing values = \", df.Humidity3pm.isnull().sum())"
   ]
  },
  {
   "cell_type": "code",
   "execution_count": 836,
   "metadata": {
    "tags": []
   },
   "outputs": [
    {
     "name": "stdout",
     "output_type": "stream",
     "text": [
      "9am\n",
      "count    139270.000000\n",
      "mean         68.826833\n",
      "std          19.063650\n",
      "min           0.000000\n",
      "25%          57.000000\n",
      "50%          70.000000\n",
      "75%          83.000000\n",
      "max         100.000000\n",
      "Name: Humidity9am, dtype: float64\n",
      "Missing values =  1517\n",
      "\n",
      "3pm\n",
      "count    137286.000000\n",
      "mean         51.449288\n",
      "std          20.807310\n",
      "min           0.000000\n",
      "25%          37.000000\n",
      "50%          52.000000\n",
      "75%          66.000000\n",
      "max         100.000000\n",
      "Name: Humidity3pm, dtype: float64\n",
      "Missing values =  3501\n"
     ]
    }
   ],
   "source": [
    "print(\"9am\")\n",
    "print(df.Humidity9am.describe())\n",
    "print(\"Missing values = \", df.Humidity9am.isnull().sum())\n",
    "print(\"\\n3pm\")\n",
    "print(df.Humidity3pm.describe())\n",
    "print(\"Missing values = \", df.Humidity3pm.isnull().sum())"
   ]
  },
  {
   "cell_type": "code",
   "execution_count": 837,
   "metadata": {
    "tags": []
   },
   "outputs": [
    {
     "data": {
      "text/plain": [
       "<Axes: >"
      ]
     },
     "execution_count": 837,
     "metadata": {},
     "output_type": "execute_result"
    },
    {
     "data": {
      "image/png": "[encoded data removed]",
      "text/plain": [
       "<Figure size 640x480 with 1 Axes>"
      ]
     },
     "metadata": {},
     "output_type": "display_data"
    }
   ],
   "source": [
    "sns.boxplot(data= df.Humidity9am,color=\"blue\")"
   ]
  },
  {
   "cell_type": "code",
   "execution_count": 838,
   "metadata": {
    "tags": []
   },
   "outputs": [
    {
     "data": {
      "text/plain": [
       "<Axes: >"
      ]
     },
     "execution_count": 838,
     "metadata": {},
     "output_type": "execute_result"
    },
    {
     "data": {
      "image/png": "[encoded data removed]",
      "text/plain": [
       "<Figure size 640x480 with 1 Axes>"
      ]
     },
     "metadata": {},
     "output_type": "display_data"
    }
   ],
   "source": [
    "sns.boxplot(data= df.Humidity3pm,color=\"red\")"
   ]
  },
  {
   "cell_type": "code",
   "execution_count": 839,
   "metadata": {
    "tags": []
   },
   "outputs": [
    {
     "data": {
      "text/plain": [
       "<Axes: xlabel='Humidity9am', ylabel='Count'>"
      ]
     },
     "execution_count": 839,
     "metadata": {},
     "output_type": "execute_result"
    },
    {
     "data": {
      "image/png": "[encoded data removed]",
      "text/plain": [
       "<Figure size 640x480 with 1 Axes>"
      ]
     },
     "metadata": {},
     "output_type": "display_data"
    }
   ],
   "source": [
    "sns.histplot(data= df.Humidity9am, color=\"blue\", binwidth = 1)\n",
    "sns.histplot(data= df.Humidity3pm, color=\"red\", binwidth = 1)"
   ]
  },
  {
   "cell_type": "code",
   "execution_count": 840,
   "metadata": {
    "tags": []
   },
   "outputs": [],
   "source": [
    "avg_diff_humidity = abs(df.Humidity9am - df.Humidity3pm)/2"
   ]
  },
  {
   "cell_type": "code",
   "execution_count": 841,
   "metadata": {
    "tags": []
   },
   "outputs": [
    {
     "data": {
      "text/plain": [
       "9.806062090547497"
      ]
     },
     "execution_count": 841,
     "metadata": {},
     "output_type": "execute_result"
    }
   ],
   "source": [
    "avg_diff_humidity.mean()"
   ]
  },
  {
   "cell_type": "code",
   "execution_count": 842,
   "metadata": {
    "tags": []
   },
   "outputs": [
    {
     "data": {
      "text/plain": [
       "(1517, 3501)"
      ]
     },
     "execution_count": 842,
     "metadata": {},
     "output_type": "execute_result"
    }
   ],
   "source": [
    "df.Humidity9am.isnull().sum(), df.Humidity3pm.isnull().sum()"
   ]
  },
  {
   "cell_type": "code",
   "execution_count": 843,
   "metadata": {
    "tags": []
   },
   "outputs": [],
   "source": [
    "df.Humidity9am.fillna(df.Humidity3pm + avg_diff_humidity.mean(), inplace = True)\n",
    "df.Humidity3pm.fillna(df.Humidity9am - avg_diff_humidity.mean(), inplace = True)"
   ]
  },
  {
   "cell_type": "code",
   "execution_count": 844,
   "metadata": {
    "tags": []
   },
   "outputs": [
    {
     "data": {
      "text/plain": [
       "(999, 999)"
      ]
     },
     "execution_count": 844,
     "metadata": {},
     "output_type": "execute_result"
    }
   ],
   "source": [
    "df.Humidity9am.isnull().sum(), df.Humidity3pm.isnull().sum()"
   ]
  },
  {
   "cell_type": "code",
   "execution_count": 845,
   "metadata": {
    "tags": []
   },
   "outputs": [],
   "source": [
    "df.Humidity9am = df.Humidity9am.interpolate()\n",
    "df.Humidity3pm = df.Humidity3pm.interpolate()"
   ]
  },
  {
   "cell_type": "code",
   "execution_count": 846,
   "metadata": {
    "tags": []
   },
   "outputs": [
    {
     "data": {
      "text/plain": [
       "Date                 0\n",
       "Location             0\n",
       "MinTemp              0\n",
       "MaxTemp              0\n",
       "Rainfall             0\n",
       "Evaporation      59694\n",
       "Sunshine         66805\n",
       "WindGustDir       9163\n",
       "WindGustSpeed     9105\n",
       "WindDir9am        9660\n",
       "WindDir3pm        3670\n",
       "WindSpeed9am      1055\n",
       "WindSpeed3pm      2531\n",
       "Humidity9am          0\n",
       "Humidity3pm          0\n",
       "Pressure9am      13743\n",
       "Pressure3pm      13769\n",
       "Cloud9am         52625\n",
       "Cloud3pm         56094\n",
       "Temp9am              0\n",
       "Temp3pm              0\n",
       "RainToday            0\n",
       "RainTomorrow         0\n",
       "dtype: int64"
      ]
     },
     "execution_count": 846,
     "metadata": {},
     "output_type": "execute_result"
    }
   ],
   "source": [
    "df.isnull().sum()"
   ]
  },
  {
   "cell_type": "markdown",
   "metadata": {},
   "source": [
    "### Cloud Cover"
   ]
  },
  {
   "cell_type": "code",
   "execution_count": 847,
   "metadata": {
    "tags": []
   },
   "outputs": [
    {
     "name": "stdout",
     "output_type": "stream",
     "text": [
      "count    88162.000000\n",
      "mean         4.431161\n",
      "std          2.886594\n",
      "min          0.000000\n",
      "25%          1.000000\n",
      "50%          5.000000\n",
      "75%          7.000000\n",
      "max          9.000000\n",
      "Name: Cloud9am, dtype: float64\n",
      "52625\n"
     ]
    }
   ],
   "source": [
    "print(df.Cloud9am.describe())\n",
    "print(df.Cloud9am.isnull().sum())"
   ]
  },
  {
   "cell_type": "code",
   "execution_count": 848,
   "metadata": {
    "tags": []
   },
   "outputs": [
    {
     "name": "stdout",
     "output_type": "stream",
     "text": [
      "count    84693.000000\n",
      "mean         4.499250\n",
      "std          2.719752\n",
      "min          0.000000\n",
      "25%          2.000000\n",
      "50%          5.000000\n",
      "75%          7.000000\n",
      "max          9.000000\n",
      "Name: Cloud3pm, dtype: float64\n",
      "56094\n"
     ]
    }
   ],
   "source": [
    "print(df.Cloud3pm.describe())\n",
    "print(df.Cloud3pm.isnull().sum())"
   ]
  },
  {
   "cell_type": "code",
   "execution_count": 849,
   "metadata": {
    "tags": []
   },
   "outputs": [],
   "source": [
    "df.Cloud3pm = df.Cloud3pm.fillna(df.Cloud9am)\n",
    "df.Cloud9am = df.Cloud9am.fillna(df.Cloud3pm)"
   ]
  },
  {
   "cell_type": "code",
   "execution_count": 850,
   "metadata": {
    "tags": []
   },
   "outputs": [
    {
     "data": {
      "text/plain": [
       "Date                 0\n",
       "Location             0\n",
       "MinTemp              0\n",
       "MaxTemp              0\n",
       "Rainfall             0\n",
       "Evaporation      59694\n",
       "Sunshine         66805\n",
       "WindGustDir       9163\n",
       "WindGustSpeed     9105\n",
       "WindDir9am        9660\n",
       "WindDir3pm        3670\n",
       "WindSpeed9am      1055\n",
       "WindSpeed3pm      2531\n",
       "Humidity9am          0\n",
       "Humidity3pm          0\n",
       "Pressure9am      13743\n",
       "Pressure3pm      13769\n",
       "Cloud9am         48761\n",
       "Cloud3pm         48761\n",
       "Temp9am              0\n",
       "Temp3pm              0\n",
       "RainToday            0\n",
       "RainTomorrow         0\n",
       "dtype: int64"
      ]
     },
     "execution_count": 850,
     "metadata": {},
     "output_type": "execute_result"
    }
   ],
   "source": [
    "df.isnull().sum()"
   ]
  },
  {
   "cell_type": "code",
   "execution_count": 851,
   "metadata": {
    "tags": []
   },
   "outputs": [],
   "source": [
    "### Drpoing Evaporatin, sunshine and cloud cover because of too much missing values"
   ]
  },
  {
   "cell_type": "code",
   "execution_count": 852,
   "metadata": {
    "tags": []
   },
   "outputs": [],
   "source": [
    "df = df.drop(columns = [\"Evaporation\",\"Sunshine\",\"Cloud9am\",\"Cloud3pm\"])"
   ]
  },
  {
   "cell_type": "code",
   "execution_count": 853,
   "metadata": {
    "tags": []
   },
   "outputs": [
    {
     "data": {
      "text/plain": [
       "Date                 0\n",
       "Location             0\n",
       "MinTemp              0\n",
       "MaxTemp              0\n",
       "Rainfall             0\n",
       "WindGustDir       9163\n",
       "WindGustSpeed     9105\n",
       "WindDir9am        9660\n",
       "WindDir3pm        3670\n",
       "WindSpeed9am      1055\n",
       "WindSpeed3pm      2531\n",
       "Humidity9am          0\n",
       "Humidity3pm          0\n",
       "Pressure9am      13743\n",
       "Pressure3pm      13769\n",
       "Temp9am              0\n",
       "Temp3pm              0\n",
       "RainToday            0\n",
       "RainTomorrow         0\n",
       "dtype: int64"
      ]
     },
     "execution_count": 853,
     "metadata": {},
     "output_type": "execute_result"
    }
   ],
   "source": [
    "df.isnull().sum()"
   ]
  },
  {
   "cell_type": "markdown",
   "metadata": {},
   "source": [
    "### Wind Gust Speed"
   ]
  },
  {
   "cell_type": "code",
   "execution_count": 854,
   "metadata": {
    "tags": []
   },
   "outputs": [
    {
     "data": {
      "text/plain": [
       "0    44.0\n",
       "1    44.0\n",
       "2    46.0\n",
       "3    24.0\n",
       "4    41.0\n",
       "Name: WindGustSpeed, dtype: float64"
      ]
     },
     "execution_count": 854,
     "metadata": {},
     "output_type": "execute_result"
    }
   ],
   "source": [
    "df.WindGustSpeed.head()"
   ]
  },
  {
   "cell_type": "code",
   "execution_count": 855,
   "metadata": {
    "tags": []
   },
   "outputs": [
    {
     "data": {
      "text/plain": [
       "9105"
      ]
     },
     "execution_count": 855,
     "metadata": {},
     "output_type": "execute_result"
    }
   ],
   "source": [
    "df.WindGustSpeed.isnull().sum()"
   ]
  },
  {
   "cell_type": "code",
   "execution_count": 856,
   "metadata": {
    "tags": []
   },
   "outputs": [
    {
     "data": {
      "text/plain": [
       "<Axes: >"
      ]
     },
     "execution_count": 856,
     "metadata": {},
     "output_type": "execute_result"
    },
    {
     "data": {
      "image/png": "[encoded data removed]",
      "text/plain": [
       "<Figure size 640x480 with 1 Axes>"
      ]
     },
     "metadata": {},
     "output_type": "display_data"
    }
   ],
   "source": [
    "sns.scatterplot(data = np.sort(df.WindGustSpeed))"
   ]
  },
  {
   "cell_type": "code",
   "execution_count": 857,
   "metadata": {
    "tags": []
   },
   "outputs": [
    {
     "data": {
      "text/plain": [
       "<Axes: xlabel='WindGustSpeed', ylabel='Count'>"
      ]
     },
     "execution_count": 857,
     "metadata": {},
     "output_type": "execute_result"
    },
    {
     "data": {
      "image/png": "[encoded data removed]",
      "text/plain": [
       "<Figure size 640x480 with 1 Axes>"
      ]
     },
     "metadata": {},
     "output_type": "display_data"
    }
   ],
   "source": [
    "sns.histplot(data = df.WindGustSpeed)"
   ]
  },
  {
   "cell_type": "code",
   "execution_count": 858,
   "metadata": {
    "tags": []
   },
   "outputs": [
    {
     "data": {
      "text/plain": [
       "<Axes: ylabel='WindGustSpeed'>"
      ]
     },
     "execution_count": 858,
     "metadata": {},
     "output_type": "execute_result"
    },
    {
     "data": {
      "image/png": "[encoded data removed]",
      "text/plain": [
       "<Figure size 640x480 with 1 Axes>"
      ]
     },
     "metadata": {},
     "output_type": "display_data"
    }
   ],
   "source": [
    "sns.boxplot(data = df.WindGustSpeed, y = df.index)"
   ]
  },
  {
   "cell_type": "code",
   "execution_count": 859,
   "metadata": {
    "tags": []
   },
   "outputs": [
    {
     "data": {
      "text/plain": [
       "array(['NorahHead', 'Wollongong', 'MelbourneAirport', 'Woomera', 'Hobart',\n",
       "       'Darwin'], dtype=object)"
      ]
     },
     "execution_count": 859,
     "metadata": {},
     "output_type": "execute_result"
    }
   ],
   "source": [
    "df[df.WindGustSpeed > 120].Location.unique()"
   ]
  },
  {
   "cell_type": "code",
   "execution_count": 860,
   "metadata": {
    "tags": []
   },
   "outputs": [
    {
     "data": {
      "text/plain": [
       "(9105, 1055, 2531)"
      ]
     },
     "execution_count": 860,
     "metadata": {},
     "output_type": "execute_result"
    }
   ],
   "source": [
    "df.WindGustSpeed.isnull().sum(), df.WindSpeed9am.isnull().sum(),  df.WindSpeed3pm.isnull().sum()"
   ]
  },
  {
   "cell_type": "code",
   "execution_count": 861,
   "metadata": {
    "tags": []
   },
   "outputs": [],
   "source": [
    "df.WindGustSpeed.fillna(df.WindSpeed9am, inplace = True)\n",
    "df.WindGustSpeed.fillna(df.WindSpeed3pm, inplace = True)"
   ]
  },
  {
   "cell_type": "code",
   "execution_count": 862,
   "metadata": {
    "tags": []
   },
   "outputs": [
    {
     "data": {
      "text/plain": [
       "(765, 1055, 2531)"
      ]
     },
     "execution_count": 862,
     "metadata": {},
     "output_type": "execute_result"
    }
   ],
   "source": [
    "df.WindGustSpeed.isnull().sum(), df.WindSpeed9am.isnull().sum(),  df.WindSpeed3pm.isnull().sum()"
   ]
  },
  {
   "cell_type": "code",
   "execution_count": 863,
   "metadata": {
    "tags": []
   },
   "outputs": [],
   "source": [
    "df.WindSpeed9am.fillna(df.WindGustSpeed, inplace = True)\n",
    "df.WindSpeed3pm.fillna(df.WindGustSpeed, inplace = True)"
   ]
  },
  {
   "cell_type": "markdown",
   "metadata": {
    "tags": []
   },
   "source": [
    "### Imputing all numerical missing values using sklearn's interpolate"
   ]
  },
  {
   "cell_type": "code",
   "execution_count": 864,
   "metadata": {
    "tags": []
   },
   "outputs": [],
   "source": [
    "numeric_variables = [\"WindGustSpeed\",\"WindSpeed9am\",\"WindSpeed3pm\", \"Pressure9am\" , \"Pressure3pm\"]"
   ]
  },
  {
   "cell_type": "code",
   "execution_count": 865,
   "metadata": {
    "tags": []
   },
   "outputs": [],
   "source": [
    "df[numeric_variables] = df[numeric_variables].interpolate()"
   ]
  },
  {
   "cell_type": "code",
   "execution_count": 866,
   "metadata": {
    "tags": []
   },
   "outputs": [
    {
     "name": "stdout",
     "output_type": "stream",
     "text": [
      "<class 'pandas.core.frame.DataFrame'>\n",
      "Int64Index: 140787 entries, 0 to 145458\n",
      "Data columns (total 19 columns):\n",
      " #   Column         Non-Null Count   Dtype  \n",
      "---  ------         --------------   -----  \n",
      " 0   Date           140787 non-null  object \n",
      " 1   Location       140787 non-null  object \n",
      " 2   MinTemp        140787 non-null  float64\n",
      " 3   MaxTemp        140787 non-null  float64\n",
      " 4   Rainfall       140787 non-null  float64\n",
      " 5   WindGustDir    131624 non-null  object \n",
      " 6   WindGustSpeed  140787 non-null  float64\n",
      " 7   WindDir9am     131127 non-null  object \n",
      " 8   WindDir3pm     137117 non-null  object \n",
      " 9   WindSpeed9am   140787 non-null  float64\n",
      " 10  WindSpeed3pm   140787 non-null  float64\n",
      " 11  Humidity9am    140787 non-null  float64\n",
      " 12  Humidity3pm    140787 non-null  float64\n",
      " 13  Pressure9am    140787 non-null  float64\n",
      " 14  Pressure3pm    140787 non-null  float64\n",
      " 15  Temp9am        140787 non-null  float64\n",
      " 16  Temp3pm        140787 non-null  float64\n",
      " 17  RainToday      140787 non-null  float64\n",
      " 18  RainTomorrow   140787 non-null  float64\n",
      "dtypes: float64(14), object(5)\n",
      "memory usage: 25.5+ MB\n"
     ]
    }
   ],
   "source": [
    "df.info()"
   ]
  },
  {
   "cell_type": "markdown",
   "metadata": {},
   "source": [
    "## Wind Gust Direction"
   ]
  },
  {
   "cell_type": "code",
   "execution_count": 867,
   "metadata": {
    "tags": []
   },
   "outputs": [
    {
     "data": {
      "text/plain": [
       "array(['W', 'WNW', 'WSW', 'NE', 'NNW', 'N', 'NNE', 'SW', 'ENE', 'SSE',\n",
       "       'S', 'NW', 'SE', 'ESE', nan, 'E', 'SSW'], dtype=object)"
      ]
     },
     "execution_count": 867,
     "metadata": {},
     "output_type": "execute_result"
    }
   ],
   "source": [
    "df.WindGustDir.unique()"
   ]
  },
  {
   "cell_type": "code",
   "execution_count": 868,
   "metadata": {
    "tags": []
   },
   "outputs": [
    {
     "data": {
      "text/plain": [
       "9163"
      ]
     },
     "execution_count": 868,
     "metadata": {},
     "output_type": "execute_result"
    }
   ],
   "source": [
    "df.WindGustDir.isnull().sum()"
   ]
  },
  {
   "cell_type": "code",
   "execution_count": 869,
   "metadata": {
    "tags": []
   },
   "outputs": [
    {
     "data": {
      "text/plain": [
       "<Axes: xlabel='WindGustDir'>"
      ]
     },
     "execution_count": 869,
     "metadata": {},
     "output_type": "execute_result"
    },
    {
     "data": {
      "image/png": "[encoded data removed]",
      "text/plain": [
       "<Figure size 640x480 with 1 Axes>"
      ]
     },
     "metadata": {},
     "output_type": "display_data"
    }
   ],
   "source": [
    "RainTomorrow_freq = pd.crosstab(index=df[\"RainTomorrow\"], columns=\"count\")\n",
    "WindGustDir_freq = pd.crosstab(index = df[\"WindGustDir\"] , columns = \"counts\")\n",
    "WindGustDir_freq.plot(kind = \"bar\")"
   ]
  },
  {
   "cell_type": "code",
   "execution_count": 870,
   "metadata": {
    "tags": []
   },
   "outputs": [
    {
     "data": {
      "text/html": [
       "<div>\n",
       "<style scoped>\n",
       "    .dataframe tbody tr th:only-of-type {\n",
       "        vertical-align: middle;\n",
       "    }\n",
       "\n",
       "    .dataframe tbody tr th {\n",
       "        vertical-align: top;\n",
       "    }\n",
       "\n",
       "    .dataframe thead th {\n",
       "        text-align: right;\n",
       "    }\n",
       "</style>\n",
       "<table border=\"1\" class=\"dataframe\">\n",
       "  <thead>\n",
       "    <tr style=\"text-align: right;\">\n",
       "      <th></th>\n",
       "      <th>WindGustDir</th>\n",
       "      <th>WindDir9am</th>\n",
       "      <th>WindDir3pm</th>\n",
       "    </tr>\n",
       "  </thead>\n",
       "  <tbody>\n",
       "    <tr>\n",
       "      <th>64</th>\n",
       "      <td>NaN</td>\n",
       "      <td>N</td>\n",
       "      <td>NaN</td>\n",
       "    </tr>\n",
       "    <tr>\n",
       "      <th>65</th>\n",
       "      <td>NaN</td>\n",
       "      <td>NaN</td>\n",
       "      <td>NaN</td>\n",
       "    </tr>\n",
       "    <tr>\n",
       "      <th>458</th>\n",
       "      <td>NaN</td>\n",
       "      <td>SE</td>\n",
       "      <td>S</td>\n",
       "    </tr>\n",
       "    <tr>\n",
       "      <th>1058</th>\n",
       "      <td>NaN</td>\n",
       "      <td>SE</td>\n",
       "      <td>NaN</td>\n",
       "    </tr>\n",
       "    <tr>\n",
       "      <th>1059</th>\n",
       "      <td>NaN</td>\n",
       "      <td>SSE</td>\n",
       "      <td>NaN</td>\n",
       "    </tr>\n",
       "    <tr>\n",
       "      <th>...</th>\n",
       "      <td>...</td>\n",
       "      <td>...</td>\n",
       "      <td>...</td>\n",
       "    </tr>\n",
       "    <tr>\n",
       "      <th>145087</th>\n",
       "      <td>NaN</td>\n",
       "      <td>NaN</td>\n",
       "      <td>NaN</td>\n",
       "    </tr>\n",
       "    <tr>\n",
       "      <th>145088</th>\n",
       "      <td>NaN</td>\n",
       "      <td>NaN</td>\n",
       "      <td>NaN</td>\n",
       "    </tr>\n",
       "    <tr>\n",
       "      <th>145089</th>\n",
       "      <td>NaN</td>\n",
       "      <td>NaN</td>\n",
       "      <td>NaN</td>\n",
       "    </tr>\n",
       "    <tr>\n",
       "      <th>145090</th>\n",
       "      <td>NaN</td>\n",
       "      <td>NaN</td>\n",
       "      <td>NaN</td>\n",
       "    </tr>\n",
       "    <tr>\n",
       "      <th>145316</th>\n",
       "      <td>NaN</td>\n",
       "      <td>ESE</td>\n",
       "      <td>E</td>\n",
       "    </tr>\n",
       "  </tbody>\n",
       "</table>\n",
       "<p>9163 rows × 3 columns</p>\n",
       "</div>"
      ],
      "text/plain": [
       "       WindGustDir WindDir9am WindDir3pm\n",
       "64             NaN          N        NaN\n",
       "65             NaN        NaN        NaN\n",
       "458            NaN         SE          S\n",
       "1058           NaN         SE        NaN\n",
       "1059           NaN        SSE        NaN\n",
       "...            ...        ...        ...\n",
       "145087         NaN        NaN        NaN\n",
       "145088         NaN        NaN        NaN\n",
       "145089         NaN        NaN        NaN\n",
       "145090         NaN        NaN        NaN\n",
       "145316         NaN        ESE          E\n",
       "\n",
       "[9163 rows x 3 columns]"
      ]
     },
     "execution_count": 870,
     "metadata": {},
     "output_type": "execute_result"
    }
   ],
   "source": [
    "df[df.WindGustDir.isnull()][[\"WindGustDir\", \"WindDir9am\", \"WindDir3pm\"]]"
   ]
  },
  {
   "cell_type": "code",
   "execution_count": 871,
   "metadata": {
    "tags": []
   },
   "outputs": [
    {
     "data": {
      "text/plain": [
       "9163"
      ]
     },
     "execution_count": 871,
     "metadata": {},
     "output_type": "execute_result"
    }
   ],
   "source": [
    "df.WindGustDir.isnull().sum()"
   ]
  },
  {
   "cell_type": "code",
   "execution_count": 872,
   "metadata": {
    "tags": []
   },
   "outputs": [],
   "source": [
    "df.WindGustDir.fillna(df.WindDir9am , inplace = True)\n",
    "df.WindGustDir.fillna(df.WindDir3pm, inplace = True)"
   ]
  },
  {
   "cell_type": "code",
   "execution_count": 873,
   "metadata": {
    "tags": []
   },
   "outputs": [],
   "source": [
    "df.WindDir3pm.fillna(df.WindGustDir, inplace  = True)\n",
    "df.WindDir9am.fillna(df.WindGustDir, inplace  = True)"
   ]
  },
  {
   "cell_type": "code",
   "execution_count": 874,
   "metadata": {
    "tags": []
   },
   "outputs": [
    {
     "data": {
      "text/plain": [
       "1433"
      ]
     },
     "execution_count": 874,
     "metadata": {},
     "output_type": "execute_result"
    }
   ],
   "source": [
    "df.WindGustDir.isnull().sum()"
   ]
  },
  {
   "cell_type": "code",
   "execution_count": 875,
   "metadata": {
    "tags": []
   },
   "outputs": [],
   "source": [
    "df.dropna(subset = [\"WindGustDir\"], inplace = True)"
   ]
  },
  {
   "cell_type": "code",
   "execution_count": 876,
   "metadata": {
    "tags": []
   },
   "outputs": [
    {
     "name": "stdout",
     "output_type": "stream",
     "text": [
      "<class 'pandas.core.frame.DataFrame'>\n",
      "Int64Index: 139354 entries, 0 to 145458\n",
      "Data columns (total 19 columns):\n",
      " #   Column         Non-Null Count   Dtype  \n",
      "---  ------         --------------   -----  \n",
      " 0   Date           139354 non-null  object \n",
      " 1   Location       139354 non-null  object \n",
      " 2   MinTemp        139354 non-null  float64\n",
      " 3   MaxTemp        139354 non-null  float64\n",
      " 4   Rainfall       139354 non-null  float64\n",
      " 5   WindGustDir    139354 non-null  object \n",
      " 6   WindGustSpeed  139354 non-null  float64\n",
      " 7   WindDir9am     139354 non-null  object \n",
      " 8   WindDir3pm     139354 non-null  object \n",
      " 9   WindSpeed9am   139354 non-null  float64\n",
      " 10  WindSpeed3pm   139354 non-null  float64\n",
      " 11  Humidity9am    139354 non-null  float64\n",
      " 12  Humidity3pm    139354 non-null  float64\n",
      " 13  Pressure9am    139354 non-null  float64\n",
      " 14  Pressure3pm    139354 non-null  float64\n",
      " 15  Temp9am        139354 non-null  float64\n",
      " 16  Temp3pm        139354 non-null  float64\n",
      " 17  RainToday      139354 non-null  float64\n",
      " 18  RainTomorrow   139354 non-null  float64\n",
      "dtypes: float64(14), object(5)\n",
      "memory usage: 21.3+ MB\n"
     ]
    }
   ],
   "source": [
    "df.info()"
   ]
  },
  {
   "cell_type": "code",
   "execution_count": 877,
   "metadata": {
    "tags": []
   },
   "outputs": [
    {
     "data": {
      "text/plain": [
       "Date             0\n",
       "Location         0\n",
       "MinTemp          0\n",
       "MaxTemp          0\n",
       "Rainfall         0\n",
       "WindGustDir      0\n",
       "WindGustSpeed    0\n",
       "WindDir9am       0\n",
       "WindDir3pm       0\n",
       "WindSpeed9am     0\n",
       "WindSpeed3pm     0\n",
       "Humidity9am      0\n",
       "Humidity3pm      0\n",
       "Pressure9am      0\n",
       "Pressure3pm      0\n",
       "Temp9am          0\n",
       "Temp3pm          0\n",
       "RainToday        0\n",
       "RainTomorrow     0\n",
       "dtype: int64"
      ]
     },
     "execution_count": 877,
     "metadata": {},
     "output_type": "execute_result"
    }
   ],
   "source": [
    "df.isnull().sum()"
   ]
  },
  {
   "cell_type": "code",
   "execution_count": 878,
   "metadata": {
    "tags": []
   },
   "outputs": [],
   "source": [
    "df.reset_index(drop= True, inplace = True)"
   ]
  },
  {
   "cell_type": "markdown",
   "metadata": {},
   "source": [
    "# Binning into Dummy Variables"
   ]
  },
  {
   "cell_type": "markdown",
   "metadata": {},
   "source": [
    "### Date"
   ]
  },
  {
   "cell_type": "code",
   "execution_count": 879,
   "metadata": {
    "tags": []
   },
   "outputs": [],
   "source": [
    "df[[\"Year\", \"Month\", \"Day\"]] = df.Date.str.split(\"-\",expand=True)"
   ]
  },
  {
   "cell_type": "code",
   "execution_count": 880,
   "metadata": {
    "tags": []
   },
   "outputs": [],
   "source": [
    "df[[\"Year\",\"Month\",\"Day\"]] = df[[\"Year\",\"Month\",\"Day\"]].astype(np.float64)"
   ]
  },
  {
   "cell_type": "code",
   "execution_count": 881,
   "metadata": {
    "tags": []
   },
   "outputs": [],
   "source": [
    "df.drop(columns = [\"Day\",\"Date\"], inplace = True)"
   ]
  },
  {
   "cell_type": "code",
   "execution_count": 882,
   "metadata": {
    "tags": []
   },
   "outputs": [],
   "source": [
    "df.Month = df.Month.map({1:\"January\",\n",
    "2:\"February\",\n",
    "3:\"March\",\n",
    "4:\"April\",\n",
    "5:\"May\",\n",
    "6:\"June\",\n",
    "7:\"July\",\n",
    "8:\"August\",\n",
    "9:\"September\",\n",
    "10:\"October\",\n",
    "11:\"November\",\n",
    "12:\"December\"})"
   ]
  },
  {
   "cell_type": "markdown",
   "metadata": {},
   "source": [
    "### Location and WindGustDir"
   ]
  },
  {
   "cell_type": "code",
   "execution_count": 883,
   "metadata": {
    "tags": []
   },
   "outputs": [],
   "source": [
    "df = df.drop(columns = [\"WindDir9am\",\"WindDir3pm\"])"
   ]
  },
  {
   "cell_type": "code",
   "execution_count": 884,
   "metadata": {
    "tags": []
   },
   "outputs": [],
   "source": [
    "df = pd.get_dummies(df)"
   ]
  },
  {
   "cell_type": "code",
   "execution_count": 885,
   "metadata": {
    "tags": []
   },
   "outputs": [
    {
     "name": "stdout",
     "output_type": "stream",
     "text": [
      "<class 'pandas.core.frame.DataFrame'>\n",
      "RangeIndex: 139354 entries, 0 to 139353\n",
      "Data columns (total 92 columns):\n",
      " #   Column                     Non-Null Count   Dtype  \n",
      "---  ------                     --------------   -----  \n",
      " 0   MinTemp                    139354 non-null  float64\n",
      " 1   MaxTemp                    139354 non-null  float64\n",
      " 2   Rainfall                   139354 non-null  float64\n",
      " 3   WindGustSpeed              139354 non-null  float64\n",
      " 4   WindSpeed9am               139354 non-null  float64\n",
      " 5   WindSpeed3pm               139354 non-null  float64\n",
      " 6   Humidity9am                139354 non-null  float64\n",
      " 7   Humidity3pm                139354 non-null  float64\n",
      " 8   Pressure9am                139354 non-null  float64\n",
      " 9   Pressure3pm                139354 non-null  float64\n",
      " 10  Temp9am                    139354 non-null  float64\n",
      " 11  Temp3pm                    139354 non-null  float64\n",
      " 12  RainToday                  139354 non-null  float64\n",
      " 13  RainTomorrow               139354 non-null  float64\n",
      " 14  Year                       139354 non-null  float64\n",
      " 15  Location_Adelaide          139354 non-null  uint8  \n",
      " 16  Location_Albany            139354 non-null  uint8  \n",
      " 17  Location_Albury            139354 non-null  uint8  \n",
      " 18  Location_AliceSprings      139354 non-null  uint8  \n",
      " 19  Location_BadgerysCreek     139354 non-null  uint8  \n",
      " 20  Location_Ballarat          139354 non-null  uint8  \n",
      " 21  Location_Bendigo           139354 non-null  uint8  \n",
      " 22  Location_Brisbane          139354 non-null  uint8  \n",
      " 23  Location_Cairns            139354 non-null  uint8  \n",
      " 24  Location_Canberra          139354 non-null  uint8  \n",
      " 25  Location_Cobar             139354 non-null  uint8  \n",
      " 26  Location_CoffsHarbour      139354 non-null  uint8  \n",
      " 27  Location_Dartmoor          139354 non-null  uint8  \n",
      " 28  Location_Darwin            139354 non-null  uint8  \n",
      " 29  Location_GoldCoast         139354 non-null  uint8  \n",
      " 30  Location_Hobart            139354 non-null  uint8  \n",
      " 31  Location_Katherine         139354 non-null  uint8  \n",
      " 32  Location_Launceston        139354 non-null  uint8  \n",
      " 33  Location_Melbourne         139354 non-null  uint8  \n",
      " 34  Location_MelbourneAirport  139354 non-null  uint8  \n",
      " 35  Location_Mildura           139354 non-null  uint8  \n",
      " 36  Location_Moree             139354 non-null  uint8  \n",
      " 37  Location_MountGambier      139354 non-null  uint8  \n",
      " 38  Location_MountGinini       139354 non-null  uint8  \n",
      " 39  Location_Newcastle         139354 non-null  uint8  \n",
      " 40  Location_Nhil              139354 non-null  uint8  \n",
      " 41  Location_NorahHead         139354 non-null  uint8  \n",
      " 42  Location_NorfolkIsland     139354 non-null  uint8  \n",
      " 43  Location_Nuriootpa         139354 non-null  uint8  \n",
      " 44  Location_PearceRAAF        139354 non-null  uint8  \n",
      " 45  Location_Penrith           139354 non-null  uint8  \n",
      " 46  Location_Perth             139354 non-null  uint8  \n",
      " 47  Location_PerthAirport      139354 non-null  uint8  \n",
      " 48  Location_Portland          139354 non-null  uint8  \n",
      " 49  Location_Richmond          139354 non-null  uint8  \n",
      " 50  Location_Sale              139354 non-null  uint8  \n",
      " 51  Location_SalmonGums        139354 non-null  uint8  \n",
      " 52  Location_Sydney            139354 non-null  uint8  \n",
      " 53  Location_SydneyAirport     139354 non-null  uint8  \n",
      " 54  Location_Townsville        139354 non-null  uint8  \n",
      " 55  Location_Tuggeranong       139354 non-null  uint8  \n",
      " 56  Location_Uluru             139354 non-null  uint8  \n",
      " 57  Location_WaggaWagga        139354 non-null  uint8  \n",
      " 58  Location_Walpole           139354 non-null  uint8  \n",
      " 59  Location_Watsonia          139354 non-null  uint8  \n",
      " 60  Location_Williamtown       139354 non-null  uint8  \n",
      " 61  Location_Witchcliffe       139354 non-null  uint8  \n",
      " 62  Location_Wollongong        139354 non-null  uint8  \n",
      " 63  Location_Woomera           139354 non-null  uint8  \n",
      " 64  WindGustDir_E              139354 non-null  uint8  \n",
      " 65  WindGustDir_ENE            139354 non-null  uint8  \n",
      " 66  WindGustDir_ESE            139354 non-null  uint8  \n",
      " 67  WindGustDir_N              139354 non-null  uint8  \n",
      " 68  WindGustDir_NE             139354 non-null  uint8  \n",
      " 69  WindGustDir_NNE            139354 non-null  uint8  \n",
      " 70  WindGustDir_NNW            139354 non-null  uint8  \n",
      " 71  WindGustDir_NW             139354 non-null  uint8  \n",
      " 72  WindGustDir_S              139354 non-null  uint8  \n",
      " 73  WindGustDir_SE             139354 non-null  uint8  \n",
      " 74  WindGustDir_SSE            139354 non-null  uint8  \n",
      " 75  WindGustDir_SSW            139354 non-null  uint8  \n",
      " 76  WindGustDir_SW             139354 non-null  uint8  \n",
      " 77  WindGustDir_W              139354 non-null  uint8  \n",
      " 78  WindGustDir_WNW            139354 non-null  uint8  \n",
      " 79  WindGustDir_WSW            139354 non-null  uint8  \n",
      " 80  Month_April                139354 non-null  uint8  \n",
      " 81  Month_August               139354 non-null  uint8  \n",
      " 82  Month_December             139354 non-null  uint8  \n",
      " 83  Month_February             139354 non-null  uint8  \n",
      " 84  Month_January              139354 non-null  uint8  \n",
      " 85  Month_July                 139354 non-null  uint8  \n",
      " 86  Month_June                 139354 non-null  uint8  \n",
      " 87  Month_March                139354 non-null  uint8  \n",
      " 88  Month_May                  139354 non-null  uint8  \n",
      " 89  Month_November             139354 non-null  uint8  \n",
      " 90  Month_October              139354 non-null  uint8  \n",
      " 91  Month_September            139354 non-null  uint8  \n",
      "dtypes: float64(15), uint8(77)\n",
      "memory usage: 26.2 MB\n"
     ]
    }
   ],
   "source": [
    "df.info()"
   ]
  },
  {
   "cell_type": "code",
   "execution_count": 886,
   "metadata": {
    "tags": []
   },
   "outputs": [],
   "source": [
    "df.to_csv(\"explored_weather_data.csv\")"
   ]
  },
  {
   "cell_type": "markdown",
   "metadata": {},
   "source": [
    "# Train Test Split"
   ]
  },
  {
   "cell_type": "code",
   "execution_count": 887,
   "metadata": {
    "tags": []
   },
   "outputs": [],
   "source": [
    "X = df.iloc[:,16:18]\n",
    "Y = df.iloc[:, 0:83]\n",
    "Y.drop(columns = [\"RainToday\", \"RainTomorrow\"], inplace = True)\n",
    "X_train, X_test, Y_train, Y_test = train_test_split(X,Y,test_size = 0.3)"
   ]
  },
  {
   "cell_type": "markdown",
   "metadata": {},
   "source": [
    "# Feature Scalling"
   ]
  },
  {
   "cell_type": "code",
   "execution_count": 888,
   "metadata": {
    "tags": []
   },
   "outputs": [],
   "source": [
    "X_train = preprocessing.StandardScaler().fit_transform(X_train)\n",
    "X_test = preprocessing.StandardScaler().fit_transform(X_test)"
   ]
  },
  {
   "cell_type": "code",
   "execution_count": 889,
   "metadata": {
    "tags": []
   },
   "outputs": [
    {
     "data": {
      "text/plain": [
       "array([[-0.14611296, -0.14994601],\n",
       "       [ 6.84401988, -0.14994601],\n",
       "       [-0.14611296, -0.14994601],\n",
       "       ...,\n",
       "       [-0.14611296, -0.14994601],\n",
       "       [-0.14611296, -0.14994601],\n",
       "       [-0.14611296, -0.14994601]])"
      ]
     },
     "execution_count": 889,
     "metadata": {},
     "output_type": "execute_result"
    }
   ],
   "source": [
    "X_train"
   ]
  },
  {
   "cell_type": "code",
   "execution_count": null,
   "metadata": {},
   "outputs": [],
   "source": []
  }
 ],
 "metadata": {
  "colab": {
   "provenance": []
  },
  "kernelspec": {
   "display_name": "Python 3 (ipykernel)",
   "language": "python",
   "name": "python3"
  },
  "language_info": {
   "codemirror_mode": {
    "name": "ipython",
    "version": 3
   },
   "file_extension": ".py",
   "mimetype": "text/x-python",
   "name": "python",
   "nbconvert_exporter": "python",
   "pygments_lexer": "ipython3",
   "version": "3.11.4"
  }
 },
 "nbformat": 4,
 "nbformat_minor": 4
}
